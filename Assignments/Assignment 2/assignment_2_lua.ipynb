{
 "cells": [
  {
   "cell_type": "code",
   "execution_count": 1,
   "id": "bfe87778",
   "metadata": {},
   "outputs": [],
   "source": [
    "import numpy as np\n",
    "import pandas as pd\n",
    "import time\n",
    "import seaborn as sns\n",
    "import matplotlib.pyplot as plt\n",
    "import joblib\n",
    "from prettytable import PrettyTable\n",
    "from scipy.stats import randint as sp_randint\n",
    "\n",
    "from sklearn import set_config, tree\n",
    "from sklearn.neighbors import KNeighborsRegressor\n",
    "from sklearn.svm import SVR\n",
    "from sklearn.ensemble import RandomForestRegressor\n",
    "\n",
    "from sklearn.pipeline import Pipeline\n",
    "from sklearn.impute import KNNImputer\n",
    "from sklearn.preprocessing import StandardScaler, MinMaxScaler\n",
    "from sklearn.model_selection import KFold, RandomizedSearchCV, cross_val_score\n",
    "from sklearn.feature_selection import SelectKBest, f_regression, mutual_info_regression\n",
    "from sklearn.metrics import mean_squared_error"
   ]
  },
  {
   "cell_type": "code",
   "execution_count": 2,
   "id": "f0662897",
   "metadata": {},
   "outputs": [],
   "source": [
    "set_config(display='diagram', transform_output='pandas')"
   ]
  },
  {
   "cell_type": "code",
   "execution_count": 3,
   "id": "04449a74",
   "metadata": {},
   "outputs": [],
   "source": [
    "np.random.seed(seed=100505652)"
   ]
  },
  {
   "cell_type": "code",
   "execution_count": 4,
   "id": "8e11c833",
   "metadata": {
    "scrolled": true
   },
   "outputs": [],
   "source": [
    "wind_ava = pd.read_csv('wind_available.csv.gzip', compression=\"gzip\")"
   ]
  },
  {
   "cell_type": "code",
   "execution_count": 5,
   "id": "3b21a765",
   "metadata": {},
   "outputs": [
    {
     "data": {
      "text/html": [
       "<div>\n",
       "<style scoped>\n",
       "    .dataframe tbody tr th:only-of-type {\n",
       "        vertical-align: middle;\n",
       "    }\n",
       "\n",
       "    .dataframe tbody tr th {\n",
       "        vertical-align: top;\n",
       "    }\n",
       "\n",
       "    .dataframe thead th {\n",
       "        text-align: right;\n",
       "    }\n",
       "</style>\n",
       "<table border=\"1\" class=\"dataframe\">\n",
       "  <thead>\n",
       "    <tr style=\"text-align: right;\">\n",
       "      <th></th>\n",
       "      <th>energy</th>\n",
       "      <th>year</th>\n",
       "      <th>month</th>\n",
       "      <th>day</th>\n",
       "      <th>hour</th>\n",
       "      <th>p54.162.1</th>\n",
       "      <th>p54.162.2</th>\n",
       "      <th>p54.162.3</th>\n",
       "      <th>p54.162.4</th>\n",
       "      <th>p54.162.5</th>\n",
       "      <th>...</th>\n",
       "      <th>v100.16</th>\n",
       "      <th>v100.17</th>\n",
       "      <th>v100.18</th>\n",
       "      <th>v100.19</th>\n",
       "      <th>v100.20</th>\n",
       "      <th>v100.21</th>\n",
       "      <th>v100.22</th>\n",
       "      <th>v100.23</th>\n",
       "      <th>v100.24</th>\n",
       "      <th>v100.25</th>\n",
       "    </tr>\n",
       "  </thead>\n",
       "  <tbody>\n",
       "    <tr>\n",
       "      <th>count</th>\n",
       "      <td>4748.000000</td>\n",
       "      <td>4748.000000</td>\n",
       "      <td>4748.000000</td>\n",
       "      <td>4748.000000</td>\n",
       "      <td>4748.000000</td>\n",
       "      <td>4.376000e+03</td>\n",
       "      <td>4.287000e+03</td>\n",
       "      <td>4.485000e+03</td>\n",
       "      <td>4.434000e+03</td>\n",
       "      <td>4.259000e+03</td>\n",
       "      <td>...</td>\n",
       "      <td>4140.000000</td>\n",
       "      <td>4181.000000</td>\n",
       "      <td>4018.000000</td>\n",
       "      <td>3816.000000</td>\n",
       "      <td>4480.000000</td>\n",
       "      <td>4487.000000</td>\n",
       "      <td>4361.000000</td>\n",
       "      <td>4179.000000</td>\n",
       "      <td>4169.000000</td>\n",
       "      <td>4312.000000</td>\n",
       "    </tr>\n",
       "    <tr>\n",
       "      <th>mean</th>\n",
       "      <td>693.126247</td>\n",
       "      <td>2006.628475</td>\n",
       "      <td>6.628054</td>\n",
       "      <td>15.652485</td>\n",
       "      <td>9.123842</td>\n",
       "      <td>2.512664e+06</td>\n",
       "      <td>2.504671e+06</td>\n",
       "      <td>2.497395e+06</td>\n",
       "      <td>2.489648e+06</td>\n",
       "      <td>2.481708e+06</td>\n",
       "      <td>...</td>\n",
       "      <td>0.230065</td>\n",
       "      <td>0.277537</td>\n",
       "      <td>0.359449</td>\n",
       "      <td>0.438263</td>\n",
       "      <td>0.406071</td>\n",
       "      <td>0.225057</td>\n",
       "      <td>0.260836</td>\n",
       "      <td>0.280071</td>\n",
       "      <td>0.332205</td>\n",
       "      <td>0.404362</td>\n",
       "    </tr>\n",
       "    <tr>\n",
       "      <th>std</th>\n",
       "      <td>665.531609</td>\n",
       "      <td>1.414856</td>\n",
       "      <td>3.475914</td>\n",
       "      <td>8.844734</td>\n",
       "      <td>6.755085</td>\n",
       "      <td>4.498680e+04</td>\n",
       "      <td>4.519397e+04</td>\n",
       "      <td>4.504295e+04</td>\n",
       "      <td>4.483586e+04</td>\n",
       "      <td>4.460474e+04</td>\n",
       "      <td>...</td>\n",
       "      <td>4.902399</td>\n",
       "      <td>4.813315</td>\n",
       "      <td>4.666727</td>\n",
       "      <td>4.493713</td>\n",
       "      <td>4.342197</td>\n",
       "      <td>4.869798</td>\n",
       "      <td>4.725219</td>\n",
       "      <td>4.569511</td>\n",
       "      <td>4.442757</td>\n",
       "      <td>4.314635</td>\n",
       "    </tr>\n",
       "    <tr>\n",
       "      <th>min</th>\n",
       "      <td>0.010000</td>\n",
       "      <td>2005.000000</td>\n",
       "      <td>1.000000</td>\n",
       "      <td>1.000000</td>\n",
       "      <td>0.000000</td>\n",
       "      <td>2.380562e+06</td>\n",
       "      <td>2.373125e+06</td>\n",
       "      <td>2.365683e+06</td>\n",
       "      <td>2.358246e+06</td>\n",
       "      <td>2.350809e+06</td>\n",
       "      <td>...</td>\n",
       "      <td>-13.737945</td>\n",
       "      <td>-13.359267</td>\n",
       "      <td>-12.980589</td>\n",
       "      <td>-12.601412</td>\n",
       "      <td>-12.222734</td>\n",
       "      <td>-13.712999</td>\n",
       "      <td>-13.326339</td>\n",
       "      <td>-11.274292</td>\n",
       "      <td>-12.552518</td>\n",
       "      <td>-12.165857</td>\n",
       "    </tr>\n",
       "    <tr>\n",
       "      <th>25%</th>\n",
       "      <td>144.170000</td>\n",
       "      <td>2005.000000</td>\n",
       "      <td>4.000000</td>\n",
       "      <td>8.000000</td>\n",
       "      <td>6.000000</td>\n",
       "      <td>2.481905e+06</td>\n",
       "      <td>2.473722e+06</td>\n",
       "      <td>2.466373e+06</td>\n",
       "      <td>2.458621e+06</td>\n",
       "      <td>2.451135e+06</td>\n",
       "      <td>...</td>\n",
       "      <td>-3.572133</td>\n",
       "      <td>-3.464741</td>\n",
       "      <td>-3.239355</td>\n",
       "      <td>-3.020580</td>\n",
       "      <td>-2.933020</td>\n",
       "      <td>-3.528852</td>\n",
       "      <td>-3.393895</td>\n",
       "      <td>-3.224513</td>\n",
       "      <td>-3.068601</td>\n",
       "      <td>-2.864918</td>\n",
       "    </tr>\n",
       "    <tr>\n",
       "      <th>50%</th>\n",
       "      <td>465.305000</td>\n",
       "      <td>2006.000000</td>\n",
       "      <td>7.000000</td>\n",
       "      <td>16.000000</td>\n",
       "      <td>12.000000</td>\n",
       "      <td>2.513508e+06</td>\n",
       "      <td>2.505370e+06</td>\n",
       "      <td>2.498471e+06</td>\n",
       "      <td>2.490711e+06</td>\n",
       "      <td>2.482535e+06</td>\n",
       "      <td>...</td>\n",
       "      <td>-0.515392</td>\n",
       "      <td>-0.450284</td>\n",
       "      <td>-0.387420</td>\n",
       "      <td>-0.180619</td>\n",
       "      <td>-0.237745</td>\n",
       "      <td>-0.507160</td>\n",
       "      <td>-0.464253</td>\n",
       "      <td>-0.385424</td>\n",
       "      <td>-0.329047</td>\n",
       "      <td>-0.261194</td>\n",
       "    </tr>\n",
       "    <tr>\n",
       "      <th>75%</th>\n",
       "      <td>1089.375000</td>\n",
       "      <td>2007.000000</td>\n",
       "      <td>10.000000</td>\n",
       "      <td>23.000000</td>\n",
       "      <td>18.000000</td>\n",
       "      <td>2.548502e+06</td>\n",
       "      <td>2.540545e+06</td>\n",
       "      <td>2.533515e+06</td>\n",
       "      <td>2.525281e+06</td>\n",
       "      <td>2.517041e+06</td>\n",
       "      <td>...</td>\n",
       "      <td>3.732389</td>\n",
       "      <td>3.668777</td>\n",
       "      <td>3.663663</td>\n",
       "      <td>3.606537</td>\n",
       "      <td>3.467963</td>\n",
       "      <td>3.697215</td>\n",
       "      <td>3.612399</td>\n",
       "      <td>3.489915</td>\n",
       "      <td>3.454242</td>\n",
       "      <td>3.400235</td>\n",
       "    </tr>\n",
       "    <tr>\n",
       "      <th>max</th>\n",
       "      <td>2792.550000</td>\n",
       "      <td>2009.000000</td>\n",
       "      <td>12.000000</td>\n",
       "      <td>31.000000</td>\n",
       "      <td>18.000000</td>\n",
       "      <td>2.604194e+06</td>\n",
       "      <td>2.596310e+06</td>\n",
       "      <td>2.588421e+06</td>\n",
       "      <td>2.580532e+06</td>\n",
       "      <td>2.572648e+06</td>\n",
       "      <td>...</td>\n",
       "      <td>17.730758</td>\n",
       "      <td>17.229346</td>\n",
       "      <td>16.774832</td>\n",
       "      <td>16.366718</td>\n",
       "      <td>15.959103</td>\n",
       "      <td>17.571603</td>\n",
       "      <td>17.080170</td>\n",
       "      <td>16.588237</td>\n",
       "      <td>16.096804</td>\n",
       "      <td>15.681705</td>\n",
       "    </tr>\n",
       "  </tbody>\n",
       "</table>\n",
       "<p>8 rows × 555 columns</p>\n",
       "</div>"
      ],
      "text/plain": [
       "            energy         year        month          day         hour  \\\n",
       "count  4748.000000  4748.000000  4748.000000  4748.000000  4748.000000   \n",
       "mean    693.126247  2006.628475     6.628054    15.652485     9.123842   \n",
       "std     665.531609     1.414856     3.475914     8.844734     6.755085   \n",
       "min       0.010000  2005.000000     1.000000     1.000000     0.000000   \n",
       "25%     144.170000  2005.000000     4.000000     8.000000     6.000000   \n",
       "50%     465.305000  2006.000000     7.000000    16.000000    12.000000   \n",
       "75%    1089.375000  2007.000000    10.000000    23.000000    18.000000   \n",
       "max    2792.550000  2009.000000    12.000000    31.000000    18.000000   \n",
       "\n",
       "          p54.162.1     p54.162.2     p54.162.3     p54.162.4     p54.162.5  \\\n",
       "count  4.376000e+03  4.287000e+03  4.485000e+03  4.434000e+03  4.259000e+03   \n",
       "mean   2.512664e+06  2.504671e+06  2.497395e+06  2.489648e+06  2.481708e+06   \n",
       "std    4.498680e+04  4.519397e+04  4.504295e+04  4.483586e+04  4.460474e+04   \n",
       "min    2.380562e+06  2.373125e+06  2.365683e+06  2.358246e+06  2.350809e+06   \n",
       "25%    2.481905e+06  2.473722e+06  2.466373e+06  2.458621e+06  2.451135e+06   \n",
       "50%    2.513508e+06  2.505370e+06  2.498471e+06  2.490711e+06  2.482535e+06   \n",
       "75%    2.548502e+06  2.540545e+06  2.533515e+06  2.525281e+06  2.517041e+06   \n",
       "max    2.604194e+06  2.596310e+06  2.588421e+06  2.580532e+06  2.572648e+06   \n",
       "\n",
       "       ...      v100.16      v100.17      v100.18      v100.19      v100.20  \\\n",
       "count  ...  4140.000000  4181.000000  4018.000000  3816.000000  4480.000000   \n",
       "mean   ...     0.230065     0.277537     0.359449     0.438263     0.406071   \n",
       "std    ...     4.902399     4.813315     4.666727     4.493713     4.342197   \n",
       "min    ...   -13.737945   -13.359267   -12.980589   -12.601412   -12.222734   \n",
       "25%    ...    -3.572133    -3.464741    -3.239355    -3.020580    -2.933020   \n",
       "50%    ...    -0.515392    -0.450284    -0.387420    -0.180619    -0.237745   \n",
       "75%    ...     3.732389     3.668777     3.663663     3.606537     3.467963   \n",
       "max    ...    17.730758    17.229346    16.774832    16.366718    15.959103   \n",
       "\n",
       "           v100.21      v100.22      v100.23      v100.24      v100.25  \n",
       "count  4487.000000  4361.000000  4179.000000  4169.000000  4312.000000  \n",
       "mean      0.225057     0.260836     0.280071     0.332205     0.404362  \n",
       "std       4.869798     4.725219     4.569511     4.442757     4.314635  \n",
       "min     -13.712999   -13.326339   -11.274292   -12.552518   -12.165857  \n",
       "25%      -3.528852    -3.393895    -3.224513    -3.068601    -2.864918  \n",
       "50%      -0.507160    -0.464253    -0.385424    -0.329047    -0.261194  \n",
       "75%       3.697215     3.612399     3.489915     3.454242     3.400235  \n",
       "max      17.571603    17.080170    16.588237    16.096804    15.681705  \n",
       "\n",
       "[8 rows x 555 columns]"
      ]
     },
     "execution_count": 5,
     "metadata": {},
     "output_type": "execute_result"
    }
   ],
   "source": [
    "wind_ava.describe()"
   ]
  },
  {
   "cell_type": "code",
   "execution_count": 6,
   "id": "d9e76654",
   "metadata": {},
   "outputs": [
    {
     "data": {
      "text/html": [
       "<div>\n",
       "<style scoped>\n",
       "    .dataframe tbody tr th:only-of-type {\n",
       "        vertical-align: middle;\n",
       "    }\n",
       "\n",
       "    .dataframe tbody tr th {\n",
       "        vertical-align: top;\n",
       "    }\n",
       "\n",
       "    .dataframe thead th {\n",
       "        text-align: right;\n",
       "    }\n",
       "</style>\n",
       "<table border=\"1\" class=\"dataframe\">\n",
       "  <thead>\n",
       "    <tr style=\"text-align: right;\">\n",
       "      <th></th>\n",
       "      <th>energy</th>\n",
       "      <th>year</th>\n",
       "      <th>month</th>\n",
       "      <th>day</th>\n",
       "      <th>hour</th>\n",
       "      <th>p54.162.1</th>\n",
       "      <th>p54.162.2</th>\n",
       "      <th>p54.162.3</th>\n",
       "      <th>p54.162.4</th>\n",
       "      <th>p54.162.5</th>\n",
       "      <th>...</th>\n",
       "      <th>v100.16</th>\n",
       "      <th>v100.17</th>\n",
       "      <th>v100.18</th>\n",
       "      <th>v100.19</th>\n",
       "      <th>v100.20</th>\n",
       "      <th>v100.21</th>\n",
       "      <th>v100.22</th>\n",
       "      <th>v100.23</th>\n",
       "      <th>v100.24</th>\n",
       "      <th>v100.25</th>\n",
       "    </tr>\n",
       "  </thead>\n",
       "  <tbody>\n",
       "    <tr>\n",
       "      <th>0</th>\n",
       "      <td>402.71</td>\n",
       "      <td>2005</td>\n",
       "      <td>1</td>\n",
       "      <td>2</td>\n",
       "      <td>18</td>\n",
       "      <td>2.534970e+06</td>\n",
       "      <td>2.526864e+06</td>\n",
       "      <td>2.518754e+06</td>\n",
       "      <td>2.510648e+06</td>\n",
       "      <td>2.502537e+06</td>\n",
       "      <td>...</td>\n",
       "      <td>-4.683596</td>\n",
       "      <td>NaN</td>\n",
       "      <td>-4.407196</td>\n",
       "      <td>NaN</td>\n",
       "      <td>-4.131295</td>\n",
       "      <td>-4.669626</td>\n",
       "      <td>-4.528932</td>\n",
       "      <td>-4.388736</td>\n",
       "      <td>-4.248540</td>\n",
       "      <td>-4.107846</td>\n",
       "    </tr>\n",
       "    <tr>\n",
       "      <th>1</th>\n",
       "      <td>696.80</td>\n",
       "      <td>2005</td>\n",
       "      <td>1</td>\n",
       "      <td>3</td>\n",
       "      <td>0</td>\n",
       "      <td>NaN</td>\n",
       "      <td>NaN</td>\n",
       "      <td>2.521184e+06</td>\n",
       "      <td>2.513088e+06</td>\n",
       "      <td>NaN</td>\n",
       "      <td>...</td>\n",
       "      <td>-3.397886</td>\n",
       "      <td>-3.257192</td>\n",
       "      <td>-3.115998</td>\n",
       "      <td>-2.975304</td>\n",
       "      <td>-2.834609</td>\n",
       "      <td>-3.396390</td>\n",
       "      <td>-3.254198</td>\n",
       "      <td>-3.112506</td>\n",
       "      <td>-2.970314</td>\n",
       "      <td>NaN</td>\n",
       "    </tr>\n",
       "    <tr>\n",
       "      <th>2</th>\n",
       "      <td>1591.15</td>\n",
       "      <td>2005</td>\n",
       "      <td>1</td>\n",
       "      <td>3</td>\n",
       "      <td>6</td>\n",
       "      <td>2.533727e+06</td>\n",
       "      <td>2.525703e+06</td>\n",
       "      <td>2.517678e+06</td>\n",
       "      <td>2.509654e+06</td>\n",
       "      <td>NaN</td>\n",
       "      <td>...</td>\n",
       "      <td>-1.454105</td>\n",
       "      <td>NaN</td>\n",
       "      <td>-1.138290</td>\n",
       "      <td>NaN</td>\n",
       "      <td>-0.822476</td>\n",
       "      <td>-1.459094</td>\n",
       "      <td>-1.302933</td>\n",
       "      <td>-1.147271</td>\n",
       "      <td>-0.991110</td>\n",
       "      <td>-0.834949</td>\n",
       "    </tr>\n",
       "    <tr>\n",
       "      <th>3</th>\n",
       "      <td>1338.62</td>\n",
       "      <td>2005</td>\n",
       "      <td>1</td>\n",
       "      <td>3</td>\n",
       "      <td>12</td>\n",
       "      <td>NaN</td>\n",
       "      <td>2.526548e+06</td>\n",
       "      <td>2.518609e+06</td>\n",
       "      <td>2.510670e+06</td>\n",
       "      <td>2.502732e+06</td>\n",
       "      <td>...</td>\n",
       "      <td>1.255015</td>\n",
       "      <td>1.370265</td>\n",
       "      <td>1.485515</td>\n",
       "      <td>1.600765</td>\n",
       "      <td>1.716015</td>\n",
       "      <td>1.210612</td>\n",
       "      <td>1.319376</td>\n",
       "      <td>1.428140</td>\n",
       "      <td>1.536405</td>\n",
       "      <td>1.645169</td>\n",
       "    </tr>\n",
       "    <tr>\n",
       "      <th>4</th>\n",
       "      <td>562.50</td>\n",
       "      <td>2005</td>\n",
       "      <td>1</td>\n",
       "      <td>3</td>\n",
       "      <td>18</td>\n",
       "      <td>2.529543e+06</td>\n",
       "      <td>NaN</td>\n",
       "      <td>2.513702e+06</td>\n",
       "      <td>2.505782e+06</td>\n",
       "      <td>2.497861e+06</td>\n",
       "      <td>...</td>\n",
       "      <td>1.939031</td>\n",
       "      <td>NaN</td>\n",
       "      <td>NaN</td>\n",
       "      <td>2.193977</td>\n",
       "      <td>2.278793</td>\n",
       "      <td>1.873673</td>\n",
       "      <td>1.953000</td>\n",
       "      <td>2.031829</td>\n",
       "      <td>2.111157</td>\n",
       "      <td>2.189986</td>\n",
       "    </tr>\n",
       "  </tbody>\n",
       "</table>\n",
       "<p>5 rows × 555 columns</p>\n",
       "</div>"
      ],
      "text/plain": [
       "    energy  year  month  day  hour     p54.162.1     p54.162.2     p54.162.3  \\\n",
       "0   402.71  2005      1    2    18  2.534970e+06  2.526864e+06  2.518754e+06   \n",
       "1   696.80  2005      1    3     0           NaN           NaN  2.521184e+06   \n",
       "2  1591.15  2005      1    3     6  2.533727e+06  2.525703e+06  2.517678e+06   \n",
       "3  1338.62  2005      1    3    12           NaN  2.526548e+06  2.518609e+06   \n",
       "4   562.50  2005      1    3    18  2.529543e+06           NaN  2.513702e+06   \n",
       "\n",
       "      p54.162.4     p54.162.5  ...   v100.16   v100.17   v100.18   v100.19  \\\n",
       "0  2.510648e+06  2.502537e+06  ... -4.683596       NaN -4.407196       NaN   \n",
       "1  2.513088e+06           NaN  ... -3.397886 -3.257192 -3.115998 -2.975304   \n",
       "2  2.509654e+06           NaN  ... -1.454105       NaN -1.138290       NaN   \n",
       "3  2.510670e+06  2.502732e+06  ...  1.255015  1.370265  1.485515  1.600765   \n",
       "4  2.505782e+06  2.497861e+06  ...  1.939031       NaN       NaN  2.193977   \n",
       "\n",
       "    v100.20   v100.21   v100.22   v100.23   v100.24   v100.25  \n",
       "0 -4.131295 -4.669626 -4.528932 -4.388736 -4.248540 -4.107846  \n",
       "1 -2.834609 -3.396390 -3.254198 -3.112506 -2.970314       NaN  \n",
       "2 -0.822476 -1.459094 -1.302933 -1.147271 -0.991110 -0.834949  \n",
       "3  1.716015  1.210612  1.319376  1.428140  1.536405  1.645169  \n",
       "4  2.278793  1.873673  1.953000  2.031829  2.111157  2.189986  \n",
       "\n",
       "[5 rows x 555 columns]"
      ]
     },
     "execution_count": 6,
     "metadata": {},
     "output_type": "execute_result"
    }
   ],
   "source": [
    "wind_ava.head()"
   ]
  },
  {
   "cell_type": "markdown",
   "id": "f87158bc",
   "metadata": {},
   "source": [
    "## EXERCISE 2: EDA (0.4 points)"
   ]
  },
  {
   "cell_type": "markdown",
   "id": "862a86b5",
   "metadata": {},
   "source": [
    "We have 4748 instances (number of rows) and 555 variables (number of columns)."
   ]
  },
  {
   "cell_type": "code",
   "execution_count": 7,
   "id": "e3fe82bc",
   "metadata": {},
   "outputs": [
    {
     "data": {
      "text/plain": [
       "(4748, 555)"
      ]
     },
     "execution_count": 7,
     "metadata": {},
     "output_type": "execute_result"
    }
   ],
   "source": [
    "wind_ava.shape"
   ]
  },
  {
   "cell_type": "markdown",
   "id": "cead2474",
   "metadata": {},
   "source": [
    "### TYPES OF VARIABLES"
   ]
  },
  {
   "cell_type": "code",
   "execution_count": 8,
   "id": "db20fe38",
   "metadata": {},
   "outputs": [
    {
     "name": "stdout",
     "output_type": "stream",
     "text": [
      "energy     float64\n",
      "year         int64\n",
      "month        int64\n",
      "day          int64\n",
      "hour         int64\n",
      "            ...   \n",
      "v100.21    float64\n",
      "v100.22    float64\n",
      "v100.23    float64\n",
      "v100.24    float64\n",
      "v100.25    float64\n",
      "Length: 555, dtype: object\n"
     ]
    }
   ],
   "source": [
    "variable_types = wind_ava.dtypes\n",
    "print(variable_types)"
   ]
  },
  {
   "cell_type": "code",
   "execution_count": 9,
   "id": "3a15842f",
   "metadata": {},
   "outputs": [
    {
     "name": "stdout",
     "output_type": "stream",
     "text": [
      "[dtype('float64') dtype('int64')]\n"
     ]
    }
   ],
   "source": [
    "unique_variable_types = wind_ava.dtypes.unique()\n",
    "print(unique_variable_types)"
   ]
  },
  {
   "cell_type": "markdown",
   "id": "f68b343c",
   "metadata": {},
   "source": [
    "We can see that all variables are numeric; however, year, month, day and hour could be considered as multicategorical. "
   ]
  },
  {
   "cell_type": "markdown",
   "id": "6f4c7a3e",
   "metadata": {},
   "source": [
    "### MISSING VALUES"
   ]
  },
  {
   "cell_type": "code",
   "execution_count": 10,
   "id": "57ee5795",
   "metadata": {},
   "outputs": [
    {
     "name": "stdout",
     "output_type": "stream",
     "text": [
      "Total NaN count: 326132\n"
     ]
    }
   ],
   "source": [
    "# To count NaN values in the entire DataFrame\n",
    "nan_count = wind_ava.isna().sum().sum()\n",
    "print(f\"Total NaN count: {nan_count}\")"
   ]
  },
  {
   "cell_type": "markdown",
   "id": "1977d20b",
   "metadata": {},
   "source": [
    "We have a total of 326132 missing values. We want to see how many are there in each of the variables."
   ]
  },
  {
   "cell_type": "code",
   "execution_count": 11,
   "id": "5f034dac",
   "metadata": {},
   "outputs": [
    {
     "name": "stdout",
     "output_type": "stream",
     "text": [
      "Number of NaN values in each variable with at least one NaN value:\n",
      "p54.162.1    372\n",
      "p54.162.2    461\n",
      "p54.162.3    263\n",
      "p54.162.4    314\n",
      "p54.162.5    489\n",
      "            ... \n",
      "v100.21      261\n",
      "v100.22      387\n",
      "v100.23      569\n",
      "v100.24      579\n",
      "v100.25      436\n",
      "Length: 550, dtype: int64\n"
     ]
    }
   ],
   "source": [
    "# Count NaN values only for columns that have at least one NaN value\n",
    "nan_counts_per_variable = wind_ava.loc[:, wind_ava.isna().any()].isna().sum()\n",
    "\n",
    "# Display the result\n",
    "print(\"Number of NaN values in each variable with at least one NaN value:\")\n",
    "print(nan_counts_per_variable)"
   ]
  },
  {
   "cell_type": "code",
   "execution_count": 12,
   "id": "364b969f",
   "metadata": {},
   "outputs": [
    {
     "name": "stdout",
     "output_type": "stream",
     "text": [
      "Percentage of NaN values in each variable with at least one NaN value:\n",
      "p54.162.1     7.83\n",
      "p54.162.2     9.71\n",
      "p54.162.3     5.54\n",
      "p54.162.4     6.61\n",
      "p54.162.5    10.30\n",
      "             ...  \n",
      "v100.21       5.50\n",
      "v100.22       8.15\n",
      "v100.23      11.98\n",
      "v100.24      12.19\n",
      "v100.25       9.18\n",
      "Length: 550, dtype: float64\n"
     ]
    }
   ],
   "source": [
    "# Calculate the percentage of NaN values only for columns that have at least one NaN value\n",
    "nan_percentage_per_variable = (wind_ava.loc[:, wind_ava.isna().any()].isna().mean() * 100).round(2)\n",
    "\n",
    "# Display the result\n",
    "print(\"Percentage of NaN values in each variable with at least one NaN value:\")\n",
    "print(nan_percentage_per_variable)"
   ]
  },
  {
   "cell_type": "markdown",
   "id": "64ddbce9",
   "metadata": {},
   "source": [
    "### CONSTANT VARIABLES?"
   ]
  },
  {
   "cell_type": "code",
   "execution_count": 13,
   "id": "30fc29d5",
   "metadata": {},
   "outputs": [
    {
     "name": "stdout",
     "output_type": "stream",
     "text": [
      "No constant variables found.\n"
     ]
    }
   ],
   "source": [
    "# Check for constant variables\n",
    "constant_variables = wind_ava.columns[wind_ava.nunique() == 1]\n",
    "\n",
    "# Display the constant variables, if any\n",
    "if len(constant_variables) > 0:\n",
    "    print(\"Constant variables found:\")\n",
    "    print(constant_variables)\n",
    "else:\n",
    "    print(\"No constant variables found.\")"
   ]
  },
  {
   "cell_type": "markdown",
   "id": "c255dd45",
   "metadata": {},
   "source": [
    "There are no constant variables"
   ]
  },
  {
   "cell_type": "markdown",
   "id": "42263173",
   "metadata": {},
   "source": [
    "# REGRESSION OR CLASSIFICATION PROBLEM"
   ]
  },
  {
   "cell_type": "markdown",
   "id": "936e1e0a",
   "metadata": {},
   "source": [
    "Energy is the response variables and it is a regression problem because we predict a continuous variable (the amount of energy produced in Sotavento)."
   ]
  },
  {
   "cell_type": "markdown",
   "id": "252e8b70",
   "metadata": {},
   "source": [
    "### OTHER INTERESTING THINGS"
   ]
  },
  {
   "cell_type": "code",
   "execution_count": 14,
   "id": "3c801e61",
   "metadata": {
    "scrolled": false
   },
   "outputs": [
    {
     "data": {
      "image/png": "[encoded data removed]",
      "text/plain": [
       "<Figure size 1200x600 with 1 Axes>"
      ]
     },
     "metadata": {},
     "output_type": "display_data"
    }
   ],
   "source": [
    "#Time trends\n",
    "plt.figure(figsize=(12, 6))\n",
    "plt.plot(wind_ava.index, wind_ava['energy'])\n",
    "\n",
    "plt.title('Energy Production Over Time')\n",
    "plt.xlabel('Timestamp')\n",
    "plt.ylabel('Energy Production')\n",
    "#plt.legend(loc='upper left', bbox_to_anchor=(1, 1))\n",
    "plt.show()"
   ]
  },
  {
   "cell_type": "code",
   "execution_count": 15,
   "id": "21c0ee42",
   "metadata": {},
   "outputs": [
    {
     "data": {
      "image/png": "[encoded data removed]",
      "text/plain": [
       "<Figure size 640x480 with 2 Axes>"
      ]
     },
     "metadata": {},
     "output_type": "display_data"
    }
   ],
   "source": [
    "corr = wind_ava.corr()\n",
    "im = plt.imshow(corr.to_numpy())\n",
    "plt.colorbar(im)\n",
    "plt.title('Correlation between features')\n",
    "plt.show()"
   ]
  },
  {
   "cell_type": "markdown",
   "id": "735069de",
   "metadata": {},
   "source": [
    "## EXERCISE 3: split the data and decide the metric (0.2 points)"
   ]
  },
  {
   "cell_type": "markdown",
   "id": "048bdf37",
   "metadata": {},
   "source": [
    "We want to see how many observations there are in each year to know how to split the data."
   ]
  },
  {
   "cell_type": "code",
   "execution_count": 16,
   "id": "f1f8e58e",
   "metadata": {},
   "outputs": [
    {
     "data": {
      "text/plain": [
       "2006    1272\n",
       "2005    1256\n",
       "2007    1121\n",
       "2009     921\n",
       "2008     178\n",
       "Name: year, dtype: int64"
      ]
     },
     "execution_count": 16,
     "metadata": {},
     "output_type": "execute_result"
    }
   ],
   "source": [
    "wind_ava['year'].value_counts()"
   ]
  },
  {
   "cell_type": "markdown",
   "id": "a76eb81a",
   "metadata": {},
   "source": [
    "We decide to take whole years, so we take as the training data 2005-2007 and as the test data 2008-2009. We separate all the variables from the response variable also."
   ]
  },
  {
   "cell_type": "code",
   "execution_count": 17,
   "id": "a124e975",
   "metadata": {
    "scrolled": false
   },
   "outputs": [],
   "source": [
    "X_train = wind_ava.loc[:3649].drop('energy', axis=1, inplace=False)\n",
    "y_train = wind_ava.loc[:3649,\"energy\"]\n",
    "\n",
    "X_test = wind_ava.loc[3649:,:].drop(labels='energy', axis=1, inplace=False)\n",
    "y_test = wind_ava.loc[3649:,\"energy\"]"
   ]
  },
  {
   "cell_type": "markdown",
   "id": "e711e681",
   "metadata": {},
   "source": [
    "To evaluate the goodness of our Machine Learning models we will use a common metric: mean squared error (MSE). This metric is widely known to have a faster rate of convergence than mean absolute error (MAE), although it is more influenced by outliers in the dataset."
   ]
  },
  {
   "cell_type": "markdown",
   "id": "c8a8de77",
   "metadata": {},
   "source": [
    "## EXERCISE 4: using default hyper-parameters, evaluate Trees and KNN on the testing partition. For KNN, you should a pipeline with preprocessing included (scaling, at least). You can compare 2 scaling methods for KNN. (0.5 points)"
   ]
  },
  {
   "cell_type": "markdown",
   "id": "5fca68b4",
   "metadata": {},
   "source": [
    "To start the modelling, we will compare some Machine Learning methods in the simplest way: using their default hyperparameters. More specifically, Decision Tree (DT), K-Nearest Neighbors (KNN), Support Vector Machine (SVM) and Random Forest (RF) will be compared. Furthermore, for those methods that require scaling (KNN and SVM) two differents methods of scaling will be compared.\n",
    "\n",
    "It is worth mentioning that as we have seen the dataset contains a lot of instances with NA values in some variable. Although some of these methods are prepared to deal with this, all of the NAs will be imputed using an imputation method based on K-Nearest Neighbors."
   ]
  },
  {
   "cell_type": "markdown",
   "id": "2a0b99f5",
   "metadata": {},
   "source": [
    "### Decision Tree"
   ]
  },
  {
   "cell_type": "markdown",
   "id": "60b69a5b",
   "metadata": {},
   "source": [
    "We begin by fitting and testing a Decision Tree model, whose default hyperparameters include a minimum number of samples required to split of 2 and no maximim depth of the tree."
   ]
  },
  {
   "cell_type": "code",
   "execution_count": 18,
   "id": "e39da506",
   "metadata": {},
   "outputs": [
    {
     "name": "stdout",
     "output_type": "stream",
     "text": [
      " Training the Decision Tree using default hyperparameters took: 18.01s\n"
     ]
    }
   ],
   "source": [
    "tree_pipe = Pipeline([\n",
    "    ('imputation', KNNImputer()),\n",
    "    ('tree_regression', tree.DecisionTreeRegressor(random_state=0))\n",
    "])\n",
    "\n",
    "start = time.time()\n",
    "tree_pipe.fit(X_train,y_train)\n",
    "print(f\" Training the Decision Tree using default hyperparameters took: {time.time() - start:.2f}s\")\n",
    "\n",
    "y_tree_pred = tree_pipe.predict(X_test)"
   ]
  },
  {
   "cell_type": "code",
   "execution_count": 19,
   "id": "c10a4e49",
   "metadata": {},
   "outputs": [
    {
     "name": "stdout",
     "output_type": "stream",
     "text": [
      "MSE for Decision Tree: 288678.19\n"
     ]
    }
   ],
   "source": [
    "print(f\"MSE for Decision Tree: {mean_squared_error(y_test,y_tree_pred):.2f}\")"
   ]
  },
  {
   "cell_type": "markdown",
   "id": "b862d781",
   "metadata": {},
   "source": [
    "### K-Nearest Neighbors"
   ]
  },
  {
   "cell_type": "markdown",
   "id": "bd02f2f0",
   "metadata": {},
   "source": [
    "We continue with K-Nearest Neighbors. Among the default hyperparameters for this method we find the use of the 5 nearest neighbors for regression.\n",
    "\n",
    "As mentioned earlier, we will compare two methods of scaling: MinMax and standardization."
   ]
  },
  {
   "cell_type": "code",
   "execution_count": 20,
   "id": "a094985f",
   "metadata": {},
   "outputs": [
    {
     "name": "stdout",
     "output_type": "stream",
     "text": [
      "Training the KNN using default hyperparameters with standardization scaling took: 15.42s\n"
     ]
    }
   ],
   "source": [
    "knn_pipe_standard = Pipeline([\n",
    "    ('imputation', KNNImputer()),\n",
    "    ('standardization', StandardScaler()),\n",
    "    ('knn_regression', KNeighborsRegressor())\n",
    "])\n",
    "\n",
    "start = time.time()\n",
    "knn_pipe_standard.fit(X_train, y_train)\n",
    "print(f\"Training the KNN using default hyperparameters with standardization scaling took: {time.time()-start:.2f}s\")\n",
    "y_knn_pred_standard = knn_pipe_standard.predict(X_test)"
   ]
  },
  {
   "cell_type": "code",
   "execution_count": 21,
   "id": "7a3f09a3",
   "metadata": {},
   "outputs": [
    {
     "name": "stdout",
     "output_type": "stream",
     "text": [
      "Training the kNN using default hyperparameters with MinMax scaling took: 15.50s\n"
     ]
    }
   ],
   "source": [
    "knn_pipe_minmax = Pipeline([\n",
    "    ('imputation', KNNImputer()),\n",
    "    ('standardization', MinMaxScaler()),\n",
    "    ('knn_regression', KNeighborsRegressor())\n",
    "])\n",
    "\n",
    "start = time.time()\n",
    "knn_pipe_minmax.fit(X_train, y_train)\n",
    "print(f\"Training the kNN using default hyperparameters with MinMax scaling took: {time.time()-start:.2f}s\")\n",
    "y_knn_pred_minmax = knn_pipe_minmax.predict(X_test)"
   ]
  },
  {
   "cell_type": "code",
   "execution_count": 22,
   "id": "ac051031",
   "metadata": {},
   "outputs": [
    {
     "name": "stdout",
     "output_type": "stream",
     "text": [
      "MSE for kNN with StandardScaler: 188578.44\n",
      "MSE for kNN with MinMaxScaler: 213309.80\n"
     ]
    }
   ],
   "source": [
    "print(f\"MSE for kNN with StandardScaler: {mean_squared_error(y_test, y_knn_pred_standard):.2f}\")\n",
    "print(f\"MSE for kNN with MinMaxScaler: {mean_squared_error(y_test, y_knn_pred_minmax):.2f}\")"
   ]
  },
  {
   "cell_type": "markdown",
   "id": "9b3fe128",
   "metadata": {},
   "source": [
    "As we can observe from the reported MSE, we can safely say that scaling the data through standardisation seems to lead to more accurate results."
   ]
  },
  {
   "cell_type": "markdown",
   "id": "0f6da849",
   "metadata": {},
   "source": [
    "### Support Vector Machine"
   ]
  },
  {
   "cell_type": "markdown",
   "id": "04fe4caa",
   "metadata": {},
   "source": [
    "Moving on to Support Vector Machine, we observe that the default hyperparameter for this Machine Learning method is a polynomial kernel function of degree 3. It is also worth mentioning that since this methods relies on the use of the Euclidean distance, the input data should be scaled.\n",
    "\n",
    "Just like in the case of KNN, MinMax scaling and standardisation will be compared."
   ]
  },
  {
   "cell_type": "code",
   "execution_count": 23,
   "id": "a709d477",
   "metadata": {},
   "outputs": [
    {
     "name": "stdout",
     "output_type": "stream",
     "text": [
      "Training the SVM using default hyperparameters with standardization scaling took: 18.41s\n"
     ]
    }
   ],
   "source": [
    "svm_pipe_standard = Pipeline([\n",
    "    ('imputation', KNNImputer()),\n",
    "    ('standardization', StandardScaler()),\n",
    "    ('svm_regression', SVR())\n",
    "])\n",
    "\n",
    "start = time.time()\n",
    "svm_pipe_standard.fit(X_train, y_train)\n",
    "print(f\"Training the SVM using default hyperparameters with standardization scaling took: {time.time()-start:.2f}s\")\n",
    "y_svm_pred_standard = svm_pipe_standard.predict(X_test)"
   ]
  },
  {
   "cell_type": "code",
   "execution_count": 24,
   "id": "54b49a46",
   "metadata": {},
   "outputs": [
    {
     "name": "stdout",
     "output_type": "stream",
     "text": [
      "Training the SVM using default hyperparameters with MinMax scaling took: 17.87s\n"
     ]
    }
   ],
   "source": [
    "svm_pipe_minmax = Pipeline([\n",
    "    ('imputation', KNNImputer()),\n",
    "    ('standardization', MinMaxScaler()),\n",
    "    ('svm_regression', SVR())\n",
    "])\n",
    "\n",
    "start = time.time()\n",
    "svm_pipe_minmax.fit(X_train, y_train)\n",
    "print(f\"Training the SVM using default hyperparameters with MinMax scaling took: {time.time()-start:.2f}s\")\n",
    "y_svm_pred_minmax = svm_pipe_minmax.predict(X_test)"
   ]
  },
  {
   "cell_type": "code",
   "execution_count": 25,
   "id": "243d7d19",
   "metadata": {},
   "outputs": [
    {
     "name": "stdout",
     "output_type": "stream",
     "text": [
      "MSE for SVM with StandardScaler: 436081.01\n",
      "MSE for SVM with MinMaxScaler: 465214.35\n"
     ]
    }
   ],
   "source": [
    "print(f\"MSE for SVM with StandardScaler: {mean_squared_error(y_test, y_svm_pred_standard):.2f}\")\n",
    "print(f\"MSE for SVM with MinMaxScaler: {mean_squared_error(y_test, y_svm_pred_minmax):.2f}\")"
   ]
  },
  {
   "cell_type": "markdown",
   "id": "7fea102b",
   "metadata": {},
   "source": [
    "Once again, we find that scaling through standardisation gives better predictions."
   ]
  },
  {
   "cell_type": "markdown",
   "id": "aba919f3",
   "metadata": {},
   "source": [
    "### Random Forest"
   ]
  },
  {
   "cell_type": "markdown",
   "id": "b84c2ef6",
   "metadata": {},
   "source": [
    "Finally, we will use the Machine Learning algorithm known as Random Forest. Some hyperparameters of this method are the number of trees in the forest, set by default to 100, or the maximum depth of threes, which is uncapped by default. "
   ]
  },
  {
   "cell_type": "code",
   "execution_count": 26,
   "id": "ae274298",
   "metadata": {},
   "outputs": [
    {
     "name": "stdout",
     "output_type": "stream",
     "text": [
      "Training the RF using default hyperparameters took: 175.02s\n"
     ]
    }
   ],
   "source": [
    "rf_pipe = Pipeline([\n",
    "    ('imputation', KNNImputer()),\n",
    "    ('rf_regression', RandomForestRegressor(random_state=0))\n",
    "])\n",
    "\n",
    "start = time.time()\n",
    "rf_pipe.fit(X_train,y_train)\n",
    "print(f\"Training the RF using default hyperparameters took: {time.time() - start:.2f}s\")\n",
    "\n",
    "y_rf_pred = rf_pipe.predict(X_test)"
   ]
  },
  {
   "cell_type": "code",
   "execution_count": 27,
   "id": "45652d67",
   "metadata": {},
   "outputs": [
    {
     "name": "stdout",
     "output_type": "stream",
     "text": [
      "MSE for Decision Tree: 150294.01\n"
     ]
    }
   ],
   "source": [
    "print(f\"MSE for Decision Tree: {mean_squared_error(y_test,y_rf_pred):.2f}\")"
   ]
  },
  {
   "cell_type": "markdown",
   "id": "652cc420",
   "metadata": {},
   "source": [
    "All in all, we have seen that using default hyperparameters, the best method in terms of the mean squared error of its predictions seems to be Random Forest, while the worst would be Support Vector Machines. In terms of this same metric, the best scaling method for both K-Nearest Neighbors and Support Vector Machine seems to be standardisation.\n",
    "\n",
    "As far as training time is concerned, Random Forest is almost 10 times slower than Support Vector Machine, with the training times of Decision Tree and K-Nearest Neighbors being less than or around two times slower.\n",
    "\n",
    "Next, we will study whether this results might change as well as how much each method might improve through hyperparameter tuning."
   ]
  },
  {
   "cell_type": "markdown",
   "id": "32f0ec9d",
   "metadata": {},
   "source": [
    "## EXERCISE 5: do hyper-parameter tuning (HPO) for trees and KNN. Report a summary (table) of the results so far and draw conclusions about accuracy, comparing the evaluation of all alternatives tested (0.8 points)"
   ]
  },
  {
   "cell_type": "markdown",
   "id": "26df1af5",
   "metadata": {},
   "source": [
    "For the tuning of the different hyperparameters, 5-fold cross validation will be used. This is a process that can be very computationally costly if using a grid search method. In order to avoid excessive computation times, a randomized search method will be used instead, although with the trade-off of possibly missing the most optimal hyperparameter combination. The randomised search will check 10 combination of hyperparameters and perform cross validation on a model fitted with them. \n",
    "\n",
    "It is worth mentioning that this process has been further accelerated with the use of parallelisation (the argument n_jobs within RandomizedSearchCV). Were this program to be run on a computer with a less potent CPU, this argument should be omitted."
   ]
  },
  {
   "cell_type": "markdown",
   "id": "1a4c5442",
   "metadata": {},
   "source": [
    "### K-Nearest Neighbours"
   ]
  },
  {
   "cell_type": "markdown",
   "id": "ac1065ae",
   "metadata": {},
   "source": [
    "To start, hyperparameter tuning will be carried for K-Nearest Neighbors. The only parameter that we will look to optimize is the number of nearest neighbors used for regression, n_neighbors."
   ]
  },
  {
   "cell_type": "code",
   "execution_count": 28,
   "id": "65564d79",
   "metadata": {},
   "outputs": [],
   "source": [
    "knn = KNeighborsRegressor()\n",
    "scaler = StandardScaler()\n",
    "imputer = KNNImputer()\n",
    "\n",
    "knn_pipe = Pipeline([\n",
    "    ('imputation', imputer),\n",
    "    ('standardization', scaler),\n",
    "    ('knn_regression', knn)\n",
    "])\n",
    "\n",
    "inner_cv = KFold(n_splits=5, shuffle=False)\n",
    "\n",
    "knn_grid = {\n",
    "    'knn_regression__n_neighbors': sp_randint(2,40)\n",
    "}"
   ]
  },
  {
   "cell_type": "code",
   "execution_count": 29,
   "id": "bf6bc1a7",
   "metadata": {
    "scrolled": true
   },
   "outputs": [
    {
     "name": "stdout",
     "output_type": "stream",
     "text": [
      "Fitting 5 folds for each of 10 candidates, totalling 50 fits\n",
      "Training the KNN regressor with HPO took: 257.97s\n"
     ]
    }
   ],
   "source": [
    "knn_search = RandomizedSearchCV(knn_pipe, \n",
    "                                knn_grid, \n",
    "                                scoring='neg_mean_squared_error', \n",
    "                                cv=inner_cv, verbose=2, n_jobs=4, random_state=0)\n",
    "\n",
    "start = time.time()\n",
    "knn_search = knn_search.fit(X_train, y_train)\n",
    "print(f\"Training the KNN regressor with HPO took: {time.time()-start:.2f}s\")"
   ]
  },
  {
   "cell_type": "code",
   "execution_count": 30,
   "id": "0766b9cf",
   "metadata": {},
   "outputs": [],
   "source": [
    "y_pred_knn = knn_search.predict(X_test)"
   ]
  },
  {
   "cell_type": "code",
   "execution_count": 31,
   "id": "cc5908d0",
   "metadata": {},
   "outputs": [
    {
     "name": "stdout",
     "output_type": "stream",
     "text": [
      "Best Hyperparameters for KNN: {'knn_regression__n_neighbors': 21}\n",
      "MSE for KNN on Test Set: 181416.42\n"
     ]
    }
   ],
   "source": [
    "print(\"Best Hyperparameters for KNN:\", knn_search.best_params_)\n",
    "print(f\"MSE for KNN on Test Set: {mean_squared_error(y_test, y_pred_knn):.2f}\")"
   ]
  },
  {
   "cell_type": "markdown",
   "id": "150be622",
   "metadata": {},
   "source": [
    "### Decision Tree"
   ]
  },
  {
   "cell_type": "markdown",
   "id": "f75b6470",
   "metadata": {},
   "source": [
    "The two hyperparameters tuned for Decision Tree are the minimum number of samples required to split a node, min_samples_split, and the maximim depth of tree, max_depth."
   ]
  },
  {
   "cell_type": "code",
   "execution_count": 32,
   "id": "52a4097a",
   "metadata": {},
   "outputs": [],
   "source": [
    "tree_pipe = Pipeline([\n",
    "    ('imputation', KNNImputer()),\n",
    "    ('tree_regression', tree.DecisionTreeRegressor())\n",
    "])\n",
    "\n",
    "inner_cv = KFold(n_splits=5, shuffle=False)"
   ]
  },
  {
   "cell_type": "code",
   "execution_count": 33,
   "id": "f734df2c",
   "metadata": {},
   "outputs": [
    {
     "name": "stdout",
     "output_type": "stream",
     "text": [
      "Fitting 5 folds for each of 10 candidates, totalling 50 fits\n",
      "Training the Decision Tree with HPO took: 262.81s\n"
     ]
    }
   ],
   "source": [
    "tree_grid = {\n",
    "    'tree_regression__min_samples_split': sp_randint(2,200),\n",
    "    'tree_regression__max_depth': sp_randint(2, 20)\n",
    "}\n",
    "\n",
    "tree_search = RandomizedSearchCV(tree_pipe, \n",
    "                                 tree_grid, \n",
    "                                 scoring='neg_mean_squared_error', \n",
    "                                 cv=inner_cv, verbose=2, n_jobs=4, random_state=0)\n",
    "\n",
    "start = time.time()\n",
    "tree_search = tree_search.fit(X_train, y_train)\n",
    "print(f\"Training the Decision Tree with HPO took: {time.time()-start:.2f}s\")"
   ]
  },
  {
   "cell_type": "code",
   "execution_count": 34,
   "id": "f9274dba",
   "metadata": {},
   "outputs": [],
   "source": [
    "y_pred_tree = tree_search.predict(X_test)"
   ]
  },
  {
   "cell_type": "code",
   "execution_count": 35,
   "id": "959a3ce3",
   "metadata": {},
   "outputs": [
    {
     "name": "stdout",
     "output_type": "stream",
     "text": [
      "Best Hyperparameters for Decision Tree: {'tree_regression__max_depth': 6, 'tree_regression__min_samples_split': 89}\n",
      "\n",
      "MSE for Decision Tree on Test Set: 200524.00\n"
     ]
    }
   ],
   "source": [
    "print(\"Best Hyperparameters for Decision Tree:\", tree_search.best_params_)\n",
    "print(\"\")\n",
    "print(f\"MSE for Decision Tree on Test Set: {mean_squared_error(y_test, y_pred_tree):.2f}\")"
   ]
  },
  {
   "cell_type": "markdown",
   "id": "6ef3d622",
   "metadata": {},
   "source": [
    "### Support Vector Machine"
   ]
  },
  {
   "cell_type": "markdown",
   "id": "8d2a7b90",
   "metadata": {},
   "source": [
    "In the case of Support Vector Machine, only the degree of the polynomial kernel function will be tuned. Just like in the case of K-Nearest Neighbors, we will stick to standardization scaling due to its better results earlier."
   ]
  },
  {
   "cell_type": "code",
   "execution_count": 36,
   "id": "afcfa0cf",
   "metadata": {},
   "outputs": [],
   "source": [
    "svm_pipe = Pipeline([\n",
    "    ('imputation', KNNImputer()),\n",
    "    ('standardization', StandardScaler()),\n",
    "    ('svm_regression', SVR())\n",
    "])\n",
    "\n",
    "inner_cv = KFold(n_splits=5, shuffle=False)\n",
    "\n",
    "svm_grid = {\n",
    "    'svm_regression__degree': sp_randint(3,15)\n",
    "}"
   ]
  },
  {
   "cell_type": "code",
   "execution_count": 37,
   "id": "c9a14a7a",
   "metadata": {},
   "outputs": [
    {
     "name": "stdout",
     "output_type": "stream",
     "text": [
      "Fitting 5 folds for each of 10 candidates, totalling 50 fits\n",
      "Training the SVM regressor with HPO and standardization scaling took: 317.70s\n"
     ]
    }
   ],
   "source": [
    "svm_search = RandomizedSearchCV(svm_pipe, \n",
    "                                svm_grid, \n",
    "                                scoring='neg_mean_squared_error', \n",
    "                                cv=inner_cv, verbose=2, n_jobs=4, random_state=0)\n",
    "\n",
    "start = time.time()\n",
    "svm_search = svm_search.fit(X_train, y_train)\n",
    "print(f\"Training the SVM regressor with HPO and standardization scaling took: {time.time()-start:.2f}s\")"
   ]
  },
  {
   "cell_type": "code",
   "execution_count": 38,
   "id": "28e67b08",
   "metadata": {},
   "outputs": [],
   "source": [
    "y_pred_svm = svm_search.predict(X_test)"
   ]
  },
  {
   "cell_type": "code",
   "execution_count": 39,
   "id": "78e4a137",
   "metadata": {},
   "outputs": [
    {
     "name": "stdout",
     "output_type": "stream",
     "text": [
      "Best Hyperparameters for SVM: {'svm_regression__degree': 8}\n",
      "MSE for SVM on Test Set: 436081.01\n"
     ]
    }
   ],
   "source": [
    "print(\"Best Hyperparameters for SVM:\", svm_search.best_params_)\n",
    "print(f\"MSE for SVM on Test Set: {mean_squared_error(y_test, y_pred_svm):.2f}\")"
   ]
  },
  {
   "cell_type": "markdown",
   "id": "ae5b4078",
   "metadata": {},
   "source": [
    "### Random Forest"
   ]
  },
  {
   "cell_type": "markdown",
   "id": "d3b4cf1e",
   "metadata": {},
   "source": [
    "Finally, the hyperparameter tuning of the Random Forest model will be carried out for the minimum number of samples required to split a node, min_samples_split, and the maximim depth of tree, max_depth.\n",
    "\n",
    "Since this Machine Learning algorithm is by far the most computationally demanding, the number of combinations of hyperparameters has been reduced to 5 instead of 10, and the parallelisation of the cross validation has been strengthened."
   ]
  },
  {
   "cell_type": "code",
   "execution_count": 40,
   "id": "c7be05d0",
   "metadata": {},
   "outputs": [],
   "source": [
    "rf_pipe = Pipeline([\n",
    "    ('imputation', KNNImputer()),\n",
    "    ('rf_regression', RandomForestRegressor())\n",
    "])\n",
    "\n",
    "inner_cv = KFold(n_splits=5, shuffle=False)"
   ]
  },
  {
   "cell_type": "code",
   "execution_count": 41,
   "id": "dfc33c90",
   "metadata": {},
   "outputs": [
    {
     "name": "stdout",
     "output_type": "stream",
     "text": [
      "Fitting 5 folds for each of 5 candidates, totalling 25 fits\n",
      "Training the Random Forest with HPO: 430.67s\n"
     ]
    }
   ],
   "source": [
    "rf_grid = {\n",
    "    'rf_regression__min_samples_split': sp_randint(2,200),\n",
    "    'rf_regression__max_depth': sp_randint(2, 20)\n",
    "}\n",
    "\n",
    "rf_search = RandomizedSearchCV(rf_pipe, \n",
    "                               rf_grid, \n",
    "                               scoring='neg_mean_squared_error', \n",
    "                               cv=inner_cv, verbose=2, n_jobs=8, random_state=0, n_iter=5)\n",
    "\n",
    "start = time.time()\n",
    "rf_search = rf_search.fit(X_train, y_train)\n",
    "print(f\"Training the Random Forest with HPO: {time.time()-start:.2f}s\")"
   ]
  },
  {
   "cell_type": "code",
   "execution_count": 42,
   "id": "d3a9b088",
   "metadata": {},
   "outputs": [],
   "source": [
    "y_pred_rf = rf_search.predict(X_test)"
   ]
  },
  {
   "cell_type": "code",
   "execution_count": 43,
   "id": "a82ae458",
   "metadata": {},
   "outputs": [
    {
     "name": "stdout",
     "output_type": "stream",
     "text": [
      "Best Hyperparameters for Random Forest: {'rf_regression__max_depth': 11, 'rf_regression__min_samples_split': 23}\n",
      "\n",
      "MSE for Random Forest on Test Set: 151644.24\n"
     ]
    }
   ],
   "source": [
    "print(\"Best Hyperparameters for Random Forest:\", rf_search.best_params_)\n",
    "print(\"\")\n",
    "print(f\"MSE for Random Forest on Test Set: {mean_squared_error(y_test, y_pred_rf):.2f}\")"
   ]
  },
  {
   "cell_type": "markdown",
   "id": "c324068f",
   "metadata": {},
   "source": [
    "## Report a summary (use a table) of your results so far and draw some conclusions about accuracy results, comparing the evaluation of all alternatives tested."
   ]
  },
  {
   "cell_type": "markdown",
   "id": "d15cbf71",
   "metadata": {},
   "source": [
    "As we can see on the table below, the results obtained after hyperparameter optimisation have overall improved for every Machine Learning algorithm. Nonetheless, the order in terms of predictive power has not changed, with Random Forest being ahead, followed by K-Nearest Neighbors, Decision Tree and Support Vector Machine."
   ]
  },
  {
   "cell_type": "code",
   "execution_count": 44,
   "id": "239876f1",
   "metadata": {},
   "outputs": [
    {
     "name": "stdout",
     "output_type": "stream",
     "text": [
      "+------------------------+-----------------------------------------------------------------------------+--------------------+\n",
      "|       Algorithm        |                             Best Hyperparameters                            |  MSE on Test Set   |\n",
      "+------------------------+-----------------------------------------------------------------------------+--------------------+\n",
      "|  K-Nearest Neighbors   |                     {'knn_regression__n_neighbors': 21}                     | 181416.4176636074  |\n",
      "|     Decision Trees     | {'tree_regression__max_depth': 6, 'tree_regression__min_samples_split': 89} | 200524.0035616252  |\n",
      "| Support Vector Machine |                        {'svm_regression__degree': 8}                        | 436081.0144818068  |\n",
      "|     Random Forest      |   {'rf_regression__max_depth': 11, 'rf_regression__min_samples_split': 23}  | 151644.24048491073 |\n",
      "+------------------------+-----------------------------------------------------------------------------+--------------------+\n"
     ]
    }
   ],
   "source": [
    "summary_table = PrettyTable()\n",
    "summary_table.field_names = [\"Algorithm\", \"Best Hyperparameters\", \"MSE on Test Set\"]\n",
    "summary_table.add_row([\"K-Nearest Neighbors\", knn_search.best_params_, mean_squared_error(y_test, y_pred_knn)])\n",
    "summary_table.add_row([\"Decision Trees\", tree_search.best_params_, mean_squared_error(y_test, y_pred_tree)])\n",
    "summary_table.add_row([\"Support Vector Machine\", svm_search.best_params_, mean_squared_error(y_test, y_pred_svm)])\n",
    "summary_table.add_row([\"Random Forest\", rf_search.best_params_, mean_squared_error(y_test, y_pred_rf)])\n",
    "print(summary_table)"
   ]
  },
  {
   "cell_type": "markdown",
   "id": "72fc32c6",
   "metadata": {},
   "source": [
    "The performance of each algorithm for the different combinations of hyperparameters can be seen on the tables below."
   ]
  },
  {
   "cell_type": "code",
   "execution_count": 45,
   "id": "5d38c059",
   "metadata": {},
   "outputs": [
    {
     "data": {
      "text/html": [
       "<div>\n",
       "<style scoped>\n",
       "    .dataframe tbody tr th:only-of-type {\n",
       "        vertical-align: middle;\n",
       "    }\n",
       "\n",
       "    .dataframe tbody tr th {\n",
       "        vertical-align: top;\n",
       "    }\n",
       "\n",
       "    .dataframe thead th {\n",
       "        text-align: right;\n",
       "    }\n",
       "</style>\n",
       "<table border=\"1\" class=\"dataframe\">\n",
       "  <thead>\n",
       "    <tr style=\"text-align: right;\">\n",
       "      <th></th>\n",
       "      <th>mean_fit_time</th>\n",
       "      <th>std_fit_time</th>\n",
       "      <th>param_knn_regression__n_neighbors</th>\n",
       "      <th>mean_test_score</th>\n",
       "      <th>std_test_score</th>\n",
       "      <th>rank_test_score</th>\n",
       "    </tr>\n",
       "  </thead>\n",
       "  <tbody>\n",
       "    <tr>\n",
       "      <th>0</th>\n",
       "      <td>15.222459</td>\n",
       "      <td>0.420181</td>\n",
       "      <td>2</td>\n",
       "      <td>-239353.221236</td>\n",
       "      <td>34879.336509</td>\n",
       "      <td>10</td>\n",
       "    </tr>\n",
       "    <tr>\n",
       "      <th>1</th>\n",
       "      <td>15.182044</td>\n",
       "      <td>0.301414</td>\n",
       "      <td>5</td>\n",
       "      <td>-199162.456018</td>\n",
       "      <td>36475.285188</td>\n",
       "      <td>8</td>\n",
       "    </tr>\n",
       "    <tr>\n",
       "      <th>2</th>\n",
       "      <td>15.045130</td>\n",
       "      <td>0.306655</td>\n",
       "      <td>5</td>\n",
       "      <td>-199162.456018</td>\n",
       "      <td>36475.285188</td>\n",
       "      <td>8</td>\n",
       "    </tr>\n",
       "    <tr>\n",
       "      <th>3</th>\n",
       "      <td>14.919235</td>\n",
       "      <td>0.326442</td>\n",
       "      <td>11</td>\n",
       "      <td>-186982.234541</td>\n",
       "      <td>31789.432842</td>\n",
       "      <td>4</td>\n",
       "    </tr>\n",
       "    <tr>\n",
       "      <th>4</th>\n",
       "      <td>15.548310</td>\n",
       "      <td>0.810796</td>\n",
       "      <td>21</td>\n",
       "      <td>-186020.687031</td>\n",
       "      <td>34094.974744</td>\n",
       "      <td>1</td>\n",
       "    </tr>\n",
       "    <tr>\n",
       "      <th>5</th>\n",
       "      <td>15.903053</td>\n",
       "      <td>0.616424</td>\n",
       "      <td>23</td>\n",
       "      <td>-186334.759099</td>\n",
       "      <td>34239.038430</td>\n",
       "      <td>2</td>\n",
       "    </tr>\n",
       "    <tr>\n",
       "      <th>6</th>\n",
       "      <td>15.187755</td>\n",
       "      <td>0.257470</td>\n",
       "      <td>38</td>\n",
       "      <td>-188481.225082</td>\n",
       "      <td>35860.109548</td>\n",
       "      <td>6</td>\n",
       "    </tr>\n",
       "    <tr>\n",
       "      <th>7</th>\n",
       "      <td>14.959759</td>\n",
       "      <td>0.229398</td>\n",
       "      <td>25</td>\n",
       "      <td>-186852.102968</td>\n",
       "      <td>34428.682770</td>\n",
       "      <td>3</td>\n",
       "    </tr>\n",
       "    <tr>\n",
       "      <th>8</th>\n",
       "      <td>15.061777</td>\n",
       "      <td>0.298095</td>\n",
       "      <td>8</td>\n",
       "      <td>-189897.340151</td>\n",
       "      <td>33983.577022</td>\n",
       "      <td>7</td>\n",
       "    </tr>\n",
       "    <tr>\n",
       "      <th>9</th>\n",
       "      <td>13.615071</td>\n",
       "      <td>1.620824</td>\n",
       "      <td>26</td>\n",
       "      <td>-187302.670408</td>\n",
       "      <td>34573.864584</td>\n",
       "      <td>5</td>\n",
       "    </tr>\n",
       "  </tbody>\n",
       "</table>\n",
       "</div>"
      ],
      "text/plain": [
       "   mean_fit_time  std_fit_time param_knn_regression__n_neighbors  \\\n",
       "0      15.222459      0.420181                                 2   \n",
       "1      15.182044      0.301414                                 5   \n",
       "2      15.045130      0.306655                                 5   \n",
       "3      14.919235      0.326442                                11   \n",
       "4      15.548310      0.810796                                21   \n",
       "5      15.903053      0.616424                                23   \n",
       "6      15.187755      0.257470                                38   \n",
       "7      14.959759      0.229398                                25   \n",
       "8      15.061777      0.298095                                 8   \n",
       "9      13.615071      1.620824                                26   \n",
       "\n",
       "   mean_test_score  std_test_score  rank_test_score  \n",
       "0   -239353.221236    34879.336509               10  \n",
       "1   -199162.456018    36475.285188                8  \n",
       "2   -199162.456018    36475.285188                8  \n",
       "3   -186982.234541    31789.432842                4  \n",
       "4   -186020.687031    34094.974744                1  \n",
       "5   -186334.759099    34239.038430                2  \n",
       "6   -188481.225082    35860.109548                6  \n",
       "7   -186852.102968    34428.682770                3  \n",
       "8   -189897.340151    33983.577022                7  \n",
       "9   -187302.670408    34573.864584                5  "
      ]
     },
     "execution_count": 45,
     "metadata": {},
     "output_type": "execute_result"
    }
   ],
   "source": [
    "pd.DataFrame(knn_search.cv_results_).drop(['params', 'mean_score_time', 'std_score_time'] +\\\n",
    "                                          [f'split{i}_test_score' for i in range(5)], axis=1)"
   ]
  },
  {
   "cell_type": "code",
   "execution_count": 46,
   "id": "2226588c",
   "metadata": {},
   "outputs": [
    {
     "data": {
      "text/html": [
       "<div>\n",
       "<style scoped>\n",
       "    .dataframe tbody tr th:only-of-type {\n",
       "        vertical-align: middle;\n",
       "    }\n",
       "\n",
       "    .dataframe tbody tr th {\n",
       "        vertical-align: top;\n",
       "    }\n",
       "\n",
       "    .dataframe thead th {\n",
       "        text-align: right;\n",
       "    }\n",
       "</style>\n",
       "<table border=\"1\" class=\"dataframe\">\n",
       "  <thead>\n",
       "    <tr style=\"text-align: right;\">\n",
       "      <th></th>\n",
       "      <th>mean_fit_time</th>\n",
       "      <th>std_fit_time</th>\n",
       "      <th>param_tree_regression__max_depth</th>\n",
       "      <th>param_tree_regression__min_samples_split</th>\n",
       "      <th>mean_test_score</th>\n",
       "      <th>std_test_score</th>\n",
       "      <th>rank_test_score</th>\n",
       "    </tr>\n",
       "  </thead>\n",
       "  <tbody>\n",
       "    <tr>\n",
       "      <th>0</th>\n",
       "      <td>16.567082</td>\n",
       "      <td>0.298584</td>\n",
       "      <td>14</td>\n",
       "      <td>49</td>\n",
       "      <td>-200860.741531</td>\n",
       "      <td>21245.231937</td>\n",
       "      <td>7</td>\n",
       "    </tr>\n",
       "    <tr>\n",
       "      <th>1</th>\n",
       "      <td>15.364954</td>\n",
       "      <td>0.405125</td>\n",
       "      <td>2</td>\n",
       "      <td>69</td>\n",
       "      <td>-250636.039470</td>\n",
       "      <td>23749.124564</td>\n",
       "      <td>10</td>\n",
       "    </tr>\n",
       "    <tr>\n",
       "      <th>2</th>\n",
       "      <td>15.311718</td>\n",
       "      <td>0.478698</td>\n",
       "      <td>5</td>\n",
       "      <td>105</td>\n",
       "      <td>-186632.792354</td>\n",
       "      <td>22479.555240</td>\n",
       "      <td>4</td>\n",
       "    </tr>\n",
       "    <tr>\n",
       "      <th>3</th>\n",
       "      <td>15.872000</td>\n",
       "      <td>0.386278</td>\n",
       "      <td>11</td>\n",
       "      <td>23</td>\n",
       "      <td>-218332.430201</td>\n",
       "      <td>27592.812071</td>\n",
       "      <td>9</td>\n",
       "    </tr>\n",
       "    <tr>\n",
       "      <th>4</th>\n",
       "      <td>15.691549</td>\n",
       "      <td>0.541167</td>\n",
       "      <td>6</td>\n",
       "      <td>89</td>\n",
       "      <td>-182642.893947</td>\n",
       "      <td>19047.359738</td>\n",
       "      <td>1</td>\n",
       "    </tr>\n",
       "    <tr>\n",
       "      <th>5</th>\n",
       "      <td>15.789776</td>\n",
       "      <td>0.427841</td>\n",
       "      <td>8</td>\n",
       "      <td>90</td>\n",
       "      <td>-185177.794700</td>\n",
       "      <td>24140.772093</td>\n",
       "      <td>2</td>\n",
       "    </tr>\n",
       "    <tr>\n",
       "      <th>6</th>\n",
       "      <td>15.912672</td>\n",
       "      <td>0.459259</td>\n",
       "      <td>14</td>\n",
       "      <td>60</td>\n",
       "      <td>-197002.584638</td>\n",
       "      <td>23011.157574</td>\n",
       "      <td>6</td>\n",
       "    </tr>\n",
       "    <tr>\n",
       "      <th>7</th>\n",
       "      <td>15.452337</td>\n",
       "      <td>0.281466</td>\n",
       "      <td>3</td>\n",
       "      <td>41</td>\n",
       "      <td>-216124.400624</td>\n",
       "      <td>30550.409908</td>\n",
       "      <td>8</td>\n",
       "    </tr>\n",
       "    <tr>\n",
       "      <th>8</th>\n",
       "      <td>16.228547</td>\n",
       "      <td>0.371626</td>\n",
       "      <td>16</td>\n",
       "      <td>90</td>\n",
       "      <td>-187808.219049</td>\n",
       "      <td>21364.696163</td>\n",
       "      <td>5</td>\n",
       "    </tr>\n",
       "    <tr>\n",
       "      <th>9</th>\n",
       "      <td>14.297183</td>\n",
       "      <td>1.768134</td>\n",
       "      <td>19</td>\n",
       "      <td>167</td>\n",
       "      <td>-186109.998449</td>\n",
       "      <td>23317.421673</td>\n",
       "      <td>3</td>\n",
       "    </tr>\n",
       "  </tbody>\n",
       "</table>\n",
       "</div>"
      ],
      "text/plain": [
       "   mean_fit_time  std_fit_time param_tree_regression__max_depth  \\\n",
       "0      16.567082      0.298584                               14   \n",
       "1      15.364954      0.405125                                2   \n",
       "2      15.311718      0.478698                                5   \n",
       "3      15.872000      0.386278                               11   \n",
       "4      15.691549      0.541167                                6   \n",
       "5      15.789776      0.427841                                8   \n",
       "6      15.912672      0.459259                               14   \n",
       "7      15.452337      0.281466                                3   \n",
       "8      16.228547      0.371626                               16   \n",
       "9      14.297183      1.768134                               19   \n",
       "\n",
       "  param_tree_regression__min_samples_split  mean_test_score  std_test_score  \\\n",
       "0                                       49   -200860.741531    21245.231937   \n",
       "1                                       69   -250636.039470    23749.124564   \n",
       "2                                      105   -186632.792354    22479.555240   \n",
       "3                                       23   -218332.430201    27592.812071   \n",
       "4                                       89   -182642.893947    19047.359738   \n",
       "5                                       90   -185177.794700    24140.772093   \n",
       "6                                       60   -197002.584638    23011.157574   \n",
       "7                                       41   -216124.400624    30550.409908   \n",
       "8                                       90   -187808.219049    21364.696163   \n",
       "9                                      167   -186109.998449    23317.421673   \n",
       "\n",
       "   rank_test_score  \n",
       "0                7  \n",
       "1               10  \n",
       "2                4  \n",
       "3                9  \n",
       "4                1  \n",
       "5                2  \n",
       "6                6  \n",
       "7                8  \n",
       "8                5  \n",
       "9                3  "
      ]
     },
     "execution_count": 46,
     "metadata": {},
     "output_type": "execute_result"
    }
   ],
   "source": [
    "pd.DataFrame(tree_search.cv_results_).drop(['params', 'mean_score_time', 'std_score_time'] +\\\n",
    "                                          [f'split{i}_test_score' for i in range(5)], axis=1)"
   ]
  },
  {
   "cell_type": "code",
   "execution_count": 47,
   "id": "0f71b94a",
   "metadata": {},
   "outputs": [
    {
     "data": {
      "text/html": [
       "<div>\n",
       "<style scoped>\n",
       "    .dataframe tbody tr th:only-of-type {\n",
       "        vertical-align: middle;\n",
       "    }\n",
       "\n",
       "    .dataframe tbody tr th {\n",
       "        vertical-align: top;\n",
       "    }\n",
       "\n",
       "    .dataframe thead th {\n",
       "        text-align: right;\n",
       "    }\n",
       "</style>\n",
       "<table border=\"1\" class=\"dataframe\">\n",
       "  <thead>\n",
       "    <tr style=\"text-align: right;\">\n",
       "      <th></th>\n",
       "      <th>mean_fit_time</th>\n",
       "      <th>std_fit_time</th>\n",
       "      <th>param_svm_regression__degree</th>\n",
       "      <th>mean_test_score</th>\n",
       "      <th>std_test_score</th>\n",
       "      <th>rank_test_score</th>\n",
       "    </tr>\n",
       "  </thead>\n",
       "  <tbody>\n",
       "    <tr>\n",
       "      <th>0</th>\n",
       "      <td>19.006020</td>\n",
       "      <td>0.385232</td>\n",
       "      <td>8</td>\n",
       "      <td>-425879.407838</td>\n",
       "      <td>52427.229418</td>\n",
       "      <td>1</td>\n",
       "    </tr>\n",
       "    <tr>\n",
       "      <th>1</th>\n",
       "      <td>19.048190</td>\n",
       "      <td>0.957651</td>\n",
       "      <td>3</td>\n",
       "      <td>-425879.407838</td>\n",
       "      <td>52427.229418</td>\n",
       "      <td>1</td>\n",
       "    </tr>\n",
       "    <tr>\n",
       "      <th>2</th>\n",
       "      <td>18.913822</td>\n",
       "      <td>0.454611</td>\n",
       "      <td>6</td>\n",
       "      <td>-425879.407838</td>\n",
       "      <td>52427.229418</td>\n",
       "      <td>1</td>\n",
       "    </tr>\n",
       "    <tr>\n",
       "      <th>3</th>\n",
       "      <td>18.371483</td>\n",
       "      <td>0.613419</td>\n",
       "      <td>14</td>\n",
       "      <td>-425879.407838</td>\n",
       "      <td>52427.229418</td>\n",
       "      <td>1</td>\n",
       "    </tr>\n",
       "    <tr>\n",
       "      <th>4</th>\n",
       "      <td>18.652241</td>\n",
       "      <td>0.332547</td>\n",
       "      <td>6</td>\n",
       "      <td>-425879.407838</td>\n",
       "      <td>52427.229418</td>\n",
       "      <td>1</td>\n",
       "    </tr>\n",
       "    <tr>\n",
       "      <th>5</th>\n",
       "      <td>18.768146</td>\n",
       "      <td>0.685973</td>\n",
       "      <td>10</td>\n",
       "      <td>-425879.407838</td>\n",
       "      <td>52427.229418</td>\n",
       "      <td>1</td>\n",
       "    </tr>\n",
       "    <tr>\n",
       "      <th>6</th>\n",
       "      <td>18.938645</td>\n",
       "      <td>0.541013</td>\n",
       "      <td>12</td>\n",
       "      <td>-425879.407838</td>\n",
       "      <td>52427.229418</td>\n",
       "      <td>1</td>\n",
       "    </tr>\n",
       "    <tr>\n",
       "      <th>7</th>\n",
       "      <td>18.938585</td>\n",
       "      <td>0.166480</td>\n",
       "      <td>6</td>\n",
       "      <td>-425879.407838</td>\n",
       "      <td>52427.229418</td>\n",
       "      <td>1</td>\n",
       "    </tr>\n",
       "    <tr>\n",
       "      <th>8</th>\n",
       "      <td>18.609610</td>\n",
       "      <td>0.359540</td>\n",
       "      <td>8</td>\n",
       "      <td>-425879.407838</td>\n",
       "      <td>52427.229418</td>\n",
       "      <td>1</td>\n",
       "    </tr>\n",
       "    <tr>\n",
       "      <th>9</th>\n",
       "      <td>17.102228</td>\n",
       "      <td>2.560311</td>\n",
       "      <td>5</td>\n",
       "      <td>-425879.407838</td>\n",
       "      <td>52427.229418</td>\n",
       "      <td>1</td>\n",
       "    </tr>\n",
       "  </tbody>\n",
       "</table>\n",
       "</div>"
      ],
      "text/plain": [
       "   mean_fit_time  std_fit_time param_svm_regression__degree  mean_test_score  \\\n",
       "0      19.006020      0.385232                            8   -425879.407838   \n",
       "1      19.048190      0.957651                            3   -425879.407838   \n",
       "2      18.913822      0.454611                            6   -425879.407838   \n",
       "3      18.371483      0.613419                           14   -425879.407838   \n",
       "4      18.652241      0.332547                            6   -425879.407838   \n",
       "5      18.768146      0.685973                           10   -425879.407838   \n",
       "6      18.938645      0.541013                           12   -425879.407838   \n",
       "7      18.938585      0.166480                            6   -425879.407838   \n",
       "8      18.609610      0.359540                            8   -425879.407838   \n",
       "9      17.102228      2.560311                            5   -425879.407838   \n",
       "\n",
       "   std_test_score  rank_test_score  \n",
       "0    52427.229418                1  \n",
       "1    52427.229418                1  \n",
       "2    52427.229418                1  \n",
       "3    52427.229418                1  \n",
       "4    52427.229418                1  \n",
       "5    52427.229418                1  \n",
       "6    52427.229418                1  \n",
       "7    52427.229418                1  \n",
       "8    52427.229418                1  \n",
       "9    52427.229418                1  "
      ]
     },
     "execution_count": 47,
     "metadata": {},
     "output_type": "execute_result"
    }
   ],
   "source": [
    "pd.DataFrame(svm_search.cv_results_).drop(['params', 'mean_score_time', 'std_score_time'] +\\\n",
    "                                          [f'split{i}_test_score' for i in range(5)], axis=1)"
   ]
  },
  {
   "cell_type": "code",
   "execution_count": 48,
   "id": "27e81f09",
   "metadata": {},
   "outputs": [
    {
     "data": {
      "text/html": [
       "<div>\n",
       "<style scoped>\n",
       "    .dataframe tbody tr th:only-of-type {\n",
       "        vertical-align: middle;\n",
       "    }\n",
       "\n",
       "    .dataframe tbody tr th {\n",
       "        vertical-align: top;\n",
       "    }\n",
       "\n",
       "    .dataframe thead th {\n",
       "        text-align: right;\n",
       "    }\n",
       "</style>\n",
       "<table border=\"1\" class=\"dataframe\">\n",
       "  <thead>\n",
       "    <tr style=\"text-align: right;\">\n",
       "      <th></th>\n",
       "      <th>mean_fit_time</th>\n",
       "      <th>std_fit_time</th>\n",
       "      <th>param_rf_regression__max_depth</th>\n",
       "      <th>param_rf_regression__min_samples_split</th>\n",
       "      <th>mean_test_score</th>\n",
       "      <th>std_test_score</th>\n",
       "      <th>rank_test_score</th>\n",
       "    </tr>\n",
       "  </thead>\n",
       "  <tbody>\n",
       "    <tr>\n",
       "      <th>0</th>\n",
       "      <td>127.795807</td>\n",
       "      <td>1.121289</td>\n",
       "      <td>14</td>\n",
       "      <td>49</td>\n",
       "      <td>-142705.363816</td>\n",
       "      <td>17553.876618</td>\n",
       "      <td>2</td>\n",
       "    </tr>\n",
       "    <tr>\n",
       "      <th>1</th>\n",
       "      <td>45.967261</td>\n",
       "      <td>8.580994</td>\n",
       "      <td>2</td>\n",
       "      <td>69</td>\n",
       "      <td>-226072.868442</td>\n",
       "      <td>21567.284733</td>\n",
       "      <td>5</td>\n",
       "    </tr>\n",
       "    <tr>\n",
       "      <th>2</th>\n",
       "      <td>63.738674</td>\n",
       "      <td>2.791731</td>\n",
       "      <td>5</td>\n",
       "      <td>105</td>\n",
       "      <td>-156928.890100</td>\n",
       "      <td>19963.095851</td>\n",
       "      <td>4</td>\n",
       "    </tr>\n",
       "    <tr>\n",
       "      <th>3</th>\n",
       "      <td>110.404793</td>\n",
       "      <td>2.866168</td>\n",
       "      <td>11</td>\n",
       "      <td>23</td>\n",
       "      <td>-142007.565185</td>\n",
       "      <td>17490.388743</td>\n",
       "      <td>1</td>\n",
       "    </tr>\n",
       "    <tr>\n",
       "      <th>4</th>\n",
       "      <td>64.836157</td>\n",
       "      <td>2.890656</td>\n",
       "      <td>6</td>\n",
       "      <td>89</td>\n",
       "      <td>-151671.129689</td>\n",
       "      <td>18161.005286</td>\n",
       "      <td>3</td>\n",
       "    </tr>\n",
       "  </tbody>\n",
       "</table>\n",
       "</div>"
      ],
      "text/plain": [
       "   mean_fit_time  std_fit_time param_rf_regression__max_depth  \\\n",
       "0     127.795807      1.121289                             14   \n",
       "1      45.967261      8.580994                              2   \n",
       "2      63.738674      2.791731                              5   \n",
       "3     110.404793      2.866168                             11   \n",
       "4      64.836157      2.890656                              6   \n",
       "\n",
       "  param_rf_regression__min_samples_split  mean_test_score  std_test_score  \\\n",
       "0                                     49   -142705.363816    17553.876618   \n",
       "1                                     69   -226072.868442    21567.284733   \n",
       "2                                    105   -156928.890100    19963.095851   \n",
       "3                                     23   -142007.565185    17490.388743   \n",
       "4                                     89   -151671.129689    18161.005286   \n",
       "\n",
       "   rank_test_score  \n",
       "0                2  \n",
       "1                5  \n",
       "2                4  \n",
       "3                1  \n",
       "4                3  "
      ]
     },
     "execution_count": 48,
     "metadata": {},
     "output_type": "execute_result"
    }
   ],
   "source": [
    "pd.DataFrame(rf_search.cv_results_).drop(['params', 'mean_score_time', 'std_score_time'] +\\\n",
    "                                          [f'split{i}_test_score' for i in range(5)], axis=1)"
   ]
  },
  {
   "cell_type": "markdown",
   "id": "e40af1ef",
   "metadata": {},
   "source": [
    "## EXERCISE 6: using the best method of the ones evaluated previously:\n",
    "## a. Make an estimation of the error that your model might get at the competition (on the test set)."
   ]
  },
  {
   "cell_type": "markdown",
   "id": "8e470643",
   "metadata": {},
   "source": [
    "As we have seen earlier, the best method of the ones evaluated has turned out to be Random Forest with the specific combination of hyperparameters obtained through HPO. In order to make a more accurate estimation of the error that this model might get at the competition, we will perform 5-fold cross validation:"
   ]
  },
  {
   "cell_type": "code",
   "execution_count": 49,
   "id": "010a1807",
   "metadata": {},
   "outputs": [],
   "source": [
    "X = wind_ava.drop('energy', axis=1, inplace=False)\n",
    "y = wind_ava['energy']"
   ]
  },
  {
   "cell_type": "code",
   "execution_count": 50,
   "id": "2e59f366",
   "metadata": {},
   "outputs": [
    {
     "name": "stdout",
     "output_type": "stream",
     "text": [
      "The 5-fold cross validation estimation of the error took: 159.61s\n"
     ]
    }
   ],
   "source": [
    "best_pipe = Pipeline([\n",
    "                    ('imputation', imputer),\n",
    "                    ('standardization', scaler),\n",
    "                    ('rf_regression', RandomForestRegressor(max_depth=rf_search.best_params_['rf_regression__max_depth'],\n",
    "                                                           min_samples_split=rf_search.best_params_['rf_regression__min_samples_split']))\n",
    "                    ])\n",
    "start = time.time()\n",
    "cv_mses = cross_val_score(best_pipe, X, y, cv=5, n_jobs=8, scoring='neg_mean_squared_error')\n",
    "print(f\"The 5-fold cross validation estimation of the error took: {time.time()-start:.2f}s\")"
   ]
  },
  {
   "cell_type": "code",
   "execution_count": 51,
   "id": "f020dddd",
   "metadata": {},
   "outputs": [
    {
     "name": "stdout",
     "output_type": "stream",
     "text": [
      "MSE on the Test Set: 142641.45 ± 9042.95\n"
     ]
    }
   ],
   "source": [
    "print(f\"MSE on the Test Set: {-cv_mses.mean():.2f} \\u00B1 {cv_mses.std():.2f}\")"
   ]
  },
  {
   "cell_type": "markdown",
   "id": "ebd48b58",
   "metadata": {},
   "source": [
    "## b. Final model: using the best method, train the final model and use it to make predictions on the competition dataset. Save both the final model and the competition predictions on files (0.4 points)"
   ]
  },
  {
   "cell_type": "markdown",
   "id": "0521739e",
   "metadata": {},
   "source": [
    "To obtain the final model, the Random Forest method is trained with the whole dataset, and then the predictions are made from the competition dataset."
   ]
  },
  {
   "cell_type": "code",
   "execution_count": 52,
   "id": "cc7a515f",
   "metadata": {
    "scrolled": true
   },
   "outputs": [],
   "source": [
    "# load the competition dataset\n",
    "wind_comp = pd.read_csv('wind_competition.csv.gzip', compression=\"gzip\")"
   ]
  },
  {
   "cell_type": "code",
   "execution_count": 53,
   "id": "cdbfff05",
   "metadata": {},
   "outputs": [],
   "source": [
    "# use optimized hyperparameters\n",
    "best_pipe = Pipeline([\n",
    "                    ('imputation', imputer),\n",
    "                    ('rf_regression', RandomForestRegressor(max_depth=rf_search.best_params_['rf_regression__max_depth'],\n",
    "                                                           min_samples_split=rf_search.best_params_['rf_regression__min_samples_split']))\n",
    "                    ])\n",
    "# train on whole dataset\n",
    "final_model = best_pipe.fit(X, y)\n",
    "# predict on competition dataset\n",
    "predictions = final_model.predict(wind_comp)\n",
    "# save model\n",
    "joblib.dump(final_model, 'final_model.joblib')\n",
    "# save predictions to .txt\n",
    "with open('predictions.txt', 'w') as file:\n",
    "    for prediction in predictions:\n",
    "        file.write(str(prediction) + '\\n')"
   ]
  },
  {
   "cell_type": "markdown",
   "id": "50ce635d",
   "metadata": {},
   "source": [
    "## Exercise 7: feature selection for KNN: using now the optimal number of neighbors found when doing HPO, use grid-search for selecting the optimal number of features (using SelectKBest and two criteria: f_regression and mutual_info_regression). Is the number of features selected much smaller than the original number? Which are the most important features? Are they related to wind? Are they related to the Sotavento location? Are results improved for KNN compared KNN without feature selection? (0.8 points)"
   ]
  },
  {
   "cell_type": "markdown",
   "id": "4a4c3682",
   "metadata": {},
   "source": [
    "Feature selection is a dimensionality reduction technique. It consists of removing those features or variables from the dataset that might not be as relevant for the prediction at hand according to different possible criteria. We will use two different criteria for feature selection with the optimised K-Nearest Neighbor model: f_regression and mutual_info_regressiong. \n"
   ]
  },
  {
   "cell_type": "markdown",
   "id": "c33c8988",
   "metadata": {},
   "source": [
    "f_regression uses an F-statistic and its associated p-value to sequentially test for the effect of the regressors:"
   ]
  },
  {
   "cell_type": "code",
   "execution_count": 54,
   "id": "c1fc65d7",
   "metadata": {},
   "outputs": [
    {
     "name": "stdout",
     "output_type": "stream",
     "text": [
      "Fitting 5 folds for each of 10 candidates, totalling 50 fits\n",
      "Training the pipeline with feature selection using 'f_regression' took: 261.19s\n"
     ]
    }
   ],
   "source": [
    "knn = KNeighborsRegressor(n_neighbors=knn_search.best_params_['knn_regression__n_neighbors'])\n",
    "imputer = KNNImputer()\n",
    "scaler = StandardScaler()\n",
    "selector = SelectKBest(f_regression)\n",
    "\n",
    "knn_pipe = Pipeline([\n",
    "    ('imputation', imputer),\n",
    "    ('standardization', scaler),\n",
    "    ('selection', selector),\n",
    "    ('knn_regression', knn)\n",
    "])\n",
    "\n",
    "param_grid = {\n",
    "    'selection__k': sp_randint(50,554),\n",
    "}\n",
    "\n",
    "rand_search = RandomizedSearchCV(knn_pipe, \n",
    "                                 param_grid, \n",
    "                                 scoring='neg_mean_squared_error', \n",
    "                                 cv=inner_cv, verbose=2, n_jobs=4, random_state=0)\n",
    "\n",
    "start = time.time()\n",
    "rand_search.fit(X_train, y_train)\n",
    "print(f\"Training the pipeline with feature selection using 'f_regression' took: {time.time()-start:.2f}s\")\n",
    "\n",
    "best_model_knn = rand_search.best_estimator_\n",
    "\n",
    "y_pred_knn2 = best_model_knn.predict(X_test)\n",
    "\n",
    "mse_knn = mean_squared_error(y_test, y_pred_knn2)"
   ]
  },
  {
   "cell_type": "markdown",
   "id": "566bee50",
   "metadata": {},
   "source": [
    "mutual_info_regression, on the other hand, selects the features in terms of the mutual information between the different varaibles, which measures the dependency between them:"
   ]
  },
  {
   "cell_type": "code",
   "execution_count": 55,
   "id": "707e12cc",
   "metadata": {},
   "outputs": [
    {
     "name": "stdout",
     "output_type": "stream",
     "text": [
      "Fitting 5 folds for each of 10 candidates, totalling 50 fits\n",
      "Training the pipeline with feature selection using 'mutual_info_regression' took: 333.64s\n"
     ]
    }
   ],
   "source": [
    "# Use the optimal number of neighbors\n",
    "knn = KNeighborsRegressor(n_neighbors=knn_search.best_params_['knn_regression__n_neighbors'])\n",
    "imputer = KNNImputer()\n",
    "scaler = StandardScaler()\n",
    "selector = SelectKBest(mutual_info_regression)\n",
    "\n",
    "knn_pipe = Pipeline([\n",
    "    ('standardization', scaler),\n",
    "    ('imputation', imputer),\n",
    "    ('selection', selector),\n",
    "    ('knn_regression', knn)\n",
    "])\n",
    "\n",
    "param_grid = {\n",
    "    'selection__k': sp_randint(50,554),\n",
    "}\n",
    "\n",
    "rand_search2 = RandomizedSearchCV(knn_pipe, \n",
    "                                  param_grid, \n",
    "                                  scoring='neg_mean_squared_error', \n",
    "                                  cv=inner_cv, verbose=2, n_jobs=4, random_state=0)\n",
    "start = time.time()\n",
    "rand_search2.fit(X_train, y_train)\n",
    "print(f\"Training the pipeline with feature selection using 'mutual_info_regression' took: {time.time()-start:.2f}s\")\n",
    "\n",
    "best_model_knn2 = rand_search2.best_estimator_\n",
    "\n",
    "y_pred_knn2 = best_model_knn2.predict(X_test)\n",
    "\n",
    "mse_knn2 = mean_squared_error(y_test, y_pred_knn2)"
   ]
  },
  {
   "cell_type": "markdown",
   "id": "0d8d111e",
   "metadata": {},
   "source": [
    "### Is the number of features selected much smaller than the original number? Which are the most important features? Are they related to wind? Are they related to the Sotavento location? Are results improved for KNN compared KNN without feature selection?"
   ]
  },
  {
   "cell_type": "markdown",
   "id": "30bb035e",
   "metadata": {},
   "source": [
    "The number of features selected is considerably smaller than the original number of features, even more so in the case of selection through mutual_info_regression:"
   ]
  },
  {
   "cell_type": "code",
   "execution_count": 57,
   "id": "6350d2ec",
   "metadata": {},
   "outputs": [
    {
     "name": "stdout",
     "output_type": "stream",
     "text": [
      "Through f_regression, a total of 261 features have been selected.\n",
      "This translates into a reduction of 52.89%.\n"
     ]
    }
   ],
   "source": [
    "freg_selected = best_model_knn.named_steps['selection'].get_feature_names_out()\n",
    "print(f\"Through f_regression, a total of {len(freg_selected)} features have been selected.\")\n",
    "print(f\"This translates into a reduction of {100*(1-len(freg_selected)/X.shape[1]):.2f}%.\")"
   ]
  },
  {
   "cell_type": "code",
   "execution_count": 58,
   "id": "1541776a",
   "metadata": {},
   "outputs": [
    {
     "name": "stdout",
     "output_type": "stream",
     "text": [
      "Through mutual_info_regression, a total of 167 features have been selected.\n",
      "This translates into a reduction of 69.86%.\n"
     ]
    }
   ],
   "source": [
    "info_selected = best_model_knn2.named_steps['selection'].get_feature_names_out()\n",
    "print(f\"Through mutual_info_regression, a total of {len(info_selected)} features have been selected.\")\n",
    "print(f\"This translates into a reduction of {100*(1-len(info_selected)/X.shape[1]):.2f}%.\")"
   ]
  },
  {
   "cell_type": "markdown",
   "id": "c1b330a7",
   "metadata": {},
   "source": [
    "The most important features selected by f_regression are:"
   ]
  },
  {
   "cell_type": "code",
   "execution_count": 59,
   "id": "0338bdc0",
   "metadata": {},
   "outputs": [
    {
     "data": {
      "text/plain": [
       "array(['p54.162.1', 'p54.162.2', 'p54.162.3', 'p54.162.4', 'p54.162.5',\n",
       "       'p54.162.6', 'p54.162.7', 'p54.162.8', 'p54.162.9', 'p54.162.10',\n",
       "       'p54.162.11', 'p54.162.12', 'p54.162.13', 'p54.162.14',\n",
       "       'p54.162.15', 'p54.162.16', 'p54.162.17', 'p54.162.18',\n",
       "       'p54.162.19', 'p54.162.20', 'p54.162.21', 'p54.162.22',\n",
       "       'p54.162.23', 'p54.162.24', 'p54.162.25', 'p59.162.1', 'p59.162.2',\n",
       "       'p59.162.3', 'p59.162.4', 'p59.162.5', 'p59.162.6', 'p59.162.7',\n",
       "       'p59.162.8', 'p59.162.9', 'p59.162.10', 'p59.162.11', 'p59.162.12',\n",
       "       'p59.162.13', 'p59.162.14', 'p59.162.15', 'p59.162.16',\n",
       "       'p59.162.17', 'p59.162.18', 'p59.162.19', 'p59.162.20',\n",
       "       'p59.162.21', 'p59.162.22', 'p59.162.23', 'p59.162.24',\n",
       "       'p59.162.25', 'u10n.1', 'u10n.2', 'u10n.4', 'u10n.5', 'u10n.6',\n",
       "       'u10n.7', 'u10n.8', 'u10n.9', 'u10n.10', 'u10n.12', 'u10n.13',\n",
       "       'u10n.15', 'u10n.16', 'u10n.17', 'u10n.18', 'u10n.20', 'u10n.22',\n",
       "       'u10n.23', 'u10n.25', 'v10n.1', 'v10n.2', 'v10n.3', 'v10n.4',\n",
       "       'v10n.5', 'v10n.6', 'v10n.7', 'v10n.8', 'v10n.9', 'v10n.10',\n",
       "       'v10n.11', 'v10n.12', 'v10n.13', 'v10n.14', 'v10n.15', 'v10n.16',\n",
       "       'v10n.17', 'v10n.18', 'v10n.19', 'v10n.20', 'v10n.21', 'v10n.22',\n",
       "       'v10n.23', 'v10n.24', 'v10n.25', 'u10.1', 'u10.2', 'u10.3',\n",
       "       'u10.5', 'u10.6', 'u10.7', 'u10.8', 'u10.9', 'u10.10', 'u10.11',\n",
       "       'u10.12', 'u10.13', 'u10.14', 'u10.15', 'u10.16', 'u10.17',\n",
       "       'u10.18', 'u10.19', 'u10.20', 'u10.21', 'u10.22', 'u10.23',\n",
       "       'u10.24', 'u10.25', 'v10.1', 'v10.2', 'v10.3', 'v10.4', 'v10.5',\n",
       "       'v10.6', 'v10.7', 'v10.8', 'v10.9', 'v10.10', 'v10.11', 'v10.12',\n",
       "       'v10.13', 'v10.14', 'v10.15', 'v10.16', 'v10.17', 'v10.18',\n",
       "       'v10.19', 'v10.20', 'v10.21', 'v10.22', 'v10.23', 'v10.24',\n",
       "       'v10.25', 'iews.1', 'iews.2', 'iews.3', 'iews.4', 'iews.5',\n",
       "       'iews.6', 'iews.7', 'iews.8', 'iews.9', 'iews.10', 'iews.11',\n",
       "       'iews.12', 'iews.13', 'iews.14', 'iews.15', 'iews.16', 'iews.17',\n",
       "       'iews.18', 'iews.19', 'iews.20', 'iews.21', 'iews.22', 'iews.23',\n",
       "       'iews.24', 'iews.25', 'inss.1', 'inss.2', 'inss.3', 'inss.4',\n",
       "       'inss.5', 'inss.6', 'inss.7', 'inss.8', 'inss.9', 'inss.10',\n",
       "       'inss.11', 'inss.12', 'inss.13', 'inss.14', 'inss.15', 'inss.16',\n",
       "       'inss.17', 'inss.18', 'inss.19', 'inss.20', 'inss.21', 'inss.22',\n",
       "       'inss.23', 'inss.24', 'inss.25', 'fsr.1', 'fsr.2', 'fsr.3',\n",
       "       'fsr.4', 'fsr.6', 'fsr.7', 'fsr.8', 'fsr.11', 'fsr.12', 'fsr.13',\n",
       "       'fsr.16', 'fsr.17', 'fsr.18', 'fsr.21', 'fsr.22', 'fsr.23',\n",
       "       'flsr.16', 'flsr.17', 'flsr.18', 'flsr.19', 'flsr.20', 'flsr.21',\n",
       "       'flsr.22', 'flsr.23', 'flsr.24', 'flsr.25', 'u100.2', 'u100.3',\n",
       "       'u100.5', 'u100.6', 'u100.7', 'u100.9', 'u100.10', 'u100.12',\n",
       "       'u100.15', 'u100.16', 'u100.17', 'u100.19', 'u100.20', 'u100.21',\n",
       "       'u100.22', 'u100.23', 'u100.25', 'v100.1', 'v100.2', 'v100.3',\n",
       "       'v100.4', 'v100.5', 'v100.6', 'v100.7', 'v100.8', 'v100.9',\n",
       "       'v100.10', 'v100.11', 'v100.12', 'v100.13', 'v100.14', 'v100.15',\n",
       "       'v100.16', 'v100.17', 'v100.18', 'v100.19', 'v100.20', 'v100.21',\n",
       "       'v100.22', 'v100.23', 'v100.24', 'v100.25'], dtype=object)"
      ]
     },
     "execution_count": 59,
     "metadata": {},
     "output_type": "execute_result"
    }
   ],
   "source": [
    "freg_selected"
   ]
  },
  {
   "cell_type": "markdown",
   "id": "0cf66821",
   "metadata": {},
   "source": [
    "whereas the more important features determined by mutual_info_regression are:"
   ]
  },
  {
   "cell_type": "code",
   "execution_count": 60,
   "id": "0c23d3da",
   "metadata": {},
   "outputs": [
    {
     "data": {
      "text/plain": [
       "array(['u10n.1', 'u10n.2', 'u10n.3', 'u10n.4', 'u10n.5', 'u10n.6',\n",
       "       'u10n.7', 'u10n.8', 'u10n.9', 'u10n.10', 'u10n.11', 'u10n.12',\n",
       "       'u10n.13', 'u10n.14', 'u10n.15', 'u10n.16', 'u10n.17', 'u10n.18',\n",
       "       'u10n.19', 'u10n.20', 'u10n.21', 'u10n.22', 'u10n.23', 'u10n.24',\n",
       "       'u10n.25', 'v10n.1', 'v10n.2', 'v10n.4', 'v10n.5', 'v10n.10',\n",
       "       'v10n.11', 'v10n.14', 'v10n.16', 'v10n.17', 'v10n.23', 'v10n.24',\n",
       "       'u10.1', 'u10.2', 'u10.3', 'u10.4', 'u10.5', 'u10.6', 'u10.7',\n",
       "       'u10.8', 'u10.9', 'u10.10', 'u10.11', 'u10.12', 'u10.13', 'u10.14',\n",
       "       'u10.15', 'u10.16', 'u10.17', 'u10.18', 'u10.19', 'u10.20',\n",
       "       'u10.21', 'u10.22', 'u10.23', 'u10.24', 'u10.25', 'v10.2', 'v10.3',\n",
       "       'v10.4', 'v10.5', 'v10.8', 'v10.10', 'v10.12', 'v10.13', 'v10.16',\n",
       "       'v10.21', 'iews.1', 'iews.2', 'iews.3', 'iews.4', 'iews.5',\n",
       "       'iews.6', 'iews.7', 'iews.8', 'iews.9', 'iews.10', 'iews.11',\n",
       "       'iews.12', 'iews.13', 'iews.14', 'iews.15', 'iews.16', 'iews.17',\n",
       "       'iews.18', 'iews.19', 'iews.20', 'iews.21', 'iews.22', 'iews.23',\n",
       "       'iews.24', 'iews.25', 'inss.1', 'inss.2', 'inss.3', 'inss.4',\n",
       "       'inss.5', 'inss.6', 'inss.7', 'inss.8', 'inss.9', 'inss.10',\n",
       "       'inss.11', 'inss.12', 'inss.13', 'inss.14', 'inss.15', 'inss.16',\n",
       "       'inss.17', 'inss.18', 'inss.19', 'inss.20', 'inss.21', 'inss.22',\n",
       "       'inss.23', 'inss.24', 'inss.25', 'flsr.1', 'flsr.6', 'flsr.7',\n",
       "       'flsr.11', 'u100.1', 'u100.2', 'u100.3', 'u100.4', 'u100.5',\n",
       "       'u100.6', 'u100.7', 'u100.8', 'u100.9', 'u100.10', 'u100.11',\n",
       "       'u100.12', 'u100.13', 'u100.14', 'u100.15', 'u100.16', 'u100.17',\n",
       "       'u100.18', 'u100.19', 'u100.20', 'u100.21', 'u100.22', 'u100.23',\n",
       "       'u100.24', 'u100.25', 'v100.2', 'v100.3', 'v100.5', 'v100.6',\n",
       "       'v100.7', 'v100.8', 'v100.12', 'v100.14', 'v100.15', 'v100.16',\n",
       "       'v100.17', 'v100.18', 'v100.19', 'v100.20', 'v100.21', 'v100.22',\n",
       "       'v100.25'], dtype=object)"
      ]
     },
     "execution_count": 60,
     "metadata": {},
     "output_type": "execute_result"
    }
   ],
   "source": [
    "info_selected"
   ]
  },
  {
   "cell_type": "markdown",
   "id": "fba71740",
   "metadata": {},
   "source": [
    "We can see that in both cases a considerable amount of selected features are related to wind:"
   ]
  },
  {
   "cell_type": "code",
   "execution_count": 61,
   "id": "a24a0e7d",
   "metadata": {},
   "outputs": [
    {
     "name": "stdout",
     "output_type": "stream",
     "text": [
      "For f_regression, 51.72% of the selected features consisted of wind-related variables.\n"
     ]
    }
   ],
   "source": [
    "n_wind = sum(['u' in var or 'v' in var for var in freg_selected])\n",
    "print(f\"For f_regression, {100*n_wind/len(freg_selected):.2f}% of the selected features consisted of wind-related variables.\")"
   ]
  },
  {
   "cell_type": "code",
   "execution_count": 62,
   "id": "a546329c",
   "metadata": {},
   "outputs": [
    {
     "name": "stdout",
     "output_type": "stream",
     "text": [
      "For mutual_info_regression, 67.66% of the selected features consisted of wind-related variables.\n"
     ]
    }
   ],
   "source": [
    "n_wind = sum(['u' in var or 'v' in var for var in info_selected])\n",
    "print(f\"For mutual_info_regression, {100*n_wind/len(info_selected):.2f}% of the selected features consisted of wind-related variables.\")"
   ]
  },
  {
   "cell_type": "markdown",
   "id": "0785d898",
   "metadata": {},
   "source": [
    "Surprisingly, the Sotavento location does not seem to be as important as it would be naively expected, since for some selected features the atmospheric or wind conditions elsewhere seem to be more relevant: "
   ]
  },
  {
   "cell_type": "code",
   "execution_count": 63,
   "id": "1e18b6fb",
   "metadata": {},
   "outputs": [
    {
     "name": "stdout",
     "output_type": "stream",
     "text": [
      "For f_regression, 76.92307692307692% of the selected features included information regarding the Sotavento location.\n"
     ]
    }
   ],
   "source": [
    "sota = sum(['.13' in var for var in freg_selected])\n",
    "print(f\"For f_regression, {100*sota/13}% of the selected features included information regarding the Sotavento location.\")"
   ]
  },
  {
   "cell_type": "code",
   "execution_count": 64,
   "id": "8ded9412",
   "metadata": {},
   "outputs": [
    {
     "name": "stdout",
     "output_type": "stream",
     "text": [
      "For f_regression, 66.66666666666667% of the selected features included information regarding the Sotavento location.\n"
     ]
    }
   ],
   "source": [
    "sota = sum(['.13' in var for var in info_selected])\n",
    "print(f\"For f_regression, {100*sota/9}% of the selected features included information regarding the Sotavento location.\")"
   ]
  },
  {
   "cell_type": "markdown",
   "id": "d35e125f",
   "metadata": {},
   "source": [
    "Finally, we can compare the mean squared error for K-Nearest Neighbors without feature selection and with the two different methods of feature selection."
   ]
  },
  {
   "cell_type": "code",
   "execution_count": 65,
   "id": "689adc8f",
   "metadata": {},
   "outputs": [
    {
     "name": "stdout",
     "output_type": "stream",
     "text": [
      "Mean Squared Error without Feature Selection: 181416.42\n",
      "Mean Squared Error with Feature Selection (f_regression): 183480.95\n",
      "Mean Squared Error with Feature Selection (mutual_info_regression): 168448.32\n"
     ]
    }
   ],
   "source": [
    "print(f\"Mean Squared Error without Feature Selection: {mean_squared_error(y_test, y_pred_knn):.2f}\")\n",
    "print(f\"Mean Squared Error with Feature Selection (f_regression): {mse_knn:.2f}\")\n",
    "print(f\"Mean Squared Error with Feature Selection (mutual_info_regression): {mse_knn2:.2f}\")"
   ]
  },
  {
   "cell_type": "markdown",
   "id": "af67adb4",
   "metadata": {},
   "source": [
    "Most notably, we observe that after selecting features with 'f_regression', the mean squared error actually increases. When selecting features with 'mutual_info_regression' however, the mean squared error is reduced compared to that of K-Nearest Neighbors without feature selection."
   ]
  }
 ],
 "metadata": {
  "kernelspec": {
   "display_name": "Python 3 (ipykernel)",
   "language": "python",
   "name": "python3"
  },
  "language_info": {
   "codemirror_mode": {
    "name": "ipython",
    "version": 3
   },
   "file_extension": ".py",
   "mimetype": "text/x-python",
   "name": "python",
   "nbconvert_exporter": "python",
   "pygments_lexer": "ipython3",
   "version": "3.11.3"
  }
 },
 "nbformat": 4,
 "nbformat_minor": 5
}
